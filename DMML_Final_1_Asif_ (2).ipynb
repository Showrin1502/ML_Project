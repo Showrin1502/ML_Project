{
  "nbformat": 4,
  "nbformat_minor": 0,
  "metadata": {
    "colab": {
      "provenance": []
    },
    "kernelspec": {
      "name": "python3",
      "display_name": "Python 3"
    },
    "language_info": {
      "name": "python"
    }
  },
  "cells": [
    {
      "cell_type": "code",
      "execution_count": null,
      "metadata": {
        "id": "kxnV0g271_wt"
      },
      "outputs": [],
      "source": [
        "import numpy as np\n",
        "import pandas as pd\n",
        "import matplotlib.pyplot as plt\n",
        "import seaborn as sns"
      ]
    },
    {
      "cell_type": "markdown",
      "source": [
        "**Read Dataset**"
      ],
      "metadata": {
        "id": "HMocMt-1943a"
      }
    },
    {
      "cell_type": "code",
      "source": [
        "# URL = 'https://drive.google.com/file/d/1RxokJrLFbeqtHk6RtYyl1XeOQv7AJ-PO/view?usp=sharing'\n",
        "# path = 'https://drive.google.com/uc?export=download&id='+URL.split('/')[-2]\n",
        "df = pd.read_csv(\"/content/diabetes_prediction_dataset.csv.zip\")\n",
        "df.head(5)"
      ],
      "metadata": {
        "colab": {
          "base_uri": "https://localhost:8080/",
          "height": 226
        },
        "id": "ua-0rjEz2Exc",
        "outputId": "7b6316f3-e60a-40f1-c6f9-c1cc4621d966"
      },
      "execution_count": null,
      "outputs": [
        {
          "output_type": "execute_result",
          "data": {
            "text/plain": [
              "   gender   age  hypertension  heart_disease smoking_history    bmi  \\\n",
              "0  Female  80.0             0              1           never  25.19   \n",
              "1  Female  54.0             0              0         No Info  27.32   \n",
              "2    Male  28.0             0              0           never  27.32   \n",
              "3  Female  36.0             0              0         current  23.45   \n",
              "4    Male  76.0             1              1         current  20.14   \n",
              "\n",
              "   HbA1c_level  blood_glucose_level  diabetes  \n",
              "0          6.6                  140         0  \n",
              "1          6.6                   80         0  \n",
              "2          5.7                  158         0  \n",
              "3          5.0                  155         0  \n",
              "4          4.8                  155         0  "
            ],
            "text/html": [
              "\n",
              "  <div id=\"df-b343bddf-f2d2-49d4-b65b-0be346b434de\" class=\"colab-df-container\">\n",
              "    <div>\n",
              "<style scoped>\n",
              "    .dataframe tbody tr th:only-of-type {\n",
              "        vertical-align: middle;\n",
              "    }\n",
              "\n",
              "    .dataframe tbody tr th {\n",
              "        vertical-align: top;\n",
              "    }\n",
              "\n",
              "    .dataframe thead th {\n",
              "        text-align: right;\n",
              "    }\n",
              "</style>\n",
              "<table border=\"1\" class=\"dataframe\">\n",
              "  <thead>\n",
              "    <tr style=\"text-align: right;\">\n",
              "      <th></th>\n",
              "      <th>gender</th>\n",
              "      <th>age</th>\n",
              "      <th>hypertension</th>\n",
              "      <th>heart_disease</th>\n",
              "      <th>smoking_history</th>\n",
              "      <th>bmi</th>\n",
              "      <th>HbA1c_level</th>\n",
              "      <th>blood_glucose_level</th>\n",
              "      <th>diabetes</th>\n",
              "    </tr>\n",
              "  </thead>\n",
              "  <tbody>\n",
              "    <tr>\n",
              "      <th>0</th>\n",
              "      <td>Female</td>\n",
              "      <td>80.0</td>\n",
              "      <td>0</td>\n",
              "      <td>1</td>\n",
              "      <td>never</td>\n",
              "      <td>25.19</td>\n",
              "      <td>6.6</td>\n",
              "      <td>140</td>\n",
              "      <td>0</td>\n",
              "    </tr>\n",
              "    <tr>\n",
              "      <th>1</th>\n",
              "      <td>Female</td>\n",
              "      <td>54.0</td>\n",
              "      <td>0</td>\n",
              "      <td>0</td>\n",
              "      <td>No Info</td>\n",
              "      <td>27.32</td>\n",
              "      <td>6.6</td>\n",
              "      <td>80</td>\n",
              "      <td>0</td>\n",
              "    </tr>\n",
              "    <tr>\n",
              "      <th>2</th>\n",
              "      <td>Male</td>\n",
              "      <td>28.0</td>\n",
              "      <td>0</td>\n",
              "      <td>0</td>\n",
              "      <td>never</td>\n",
              "      <td>27.32</td>\n",
              "      <td>5.7</td>\n",
              "      <td>158</td>\n",
              "      <td>0</td>\n",
              "    </tr>\n",
              "    <tr>\n",
              "      <th>3</th>\n",
              "      <td>Female</td>\n",
              "      <td>36.0</td>\n",
              "      <td>0</td>\n",
              "      <td>0</td>\n",
              "      <td>current</td>\n",
              "      <td>23.45</td>\n",
              "      <td>5.0</td>\n",
              "      <td>155</td>\n",
              "      <td>0</td>\n",
              "    </tr>\n",
              "    <tr>\n",
              "      <th>4</th>\n",
              "      <td>Male</td>\n",
              "      <td>76.0</td>\n",
              "      <td>1</td>\n",
              "      <td>1</td>\n",
              "      <td>current</td>\n",
              "      <td>20.14</td>\n",
              "      <td>4.8</td>\n",
              "      <td>155</td>\n",
              "      <td>0</td>\n",
              "    </tr>\n",
              "  </tbody>\n",
              "</table>\n",
              "</div>\n",
              "    <div class=\"colab-df-buttons\">\n",
              "\n",
              "  <div class=\"colab-df-container\">\n",
              "    <button class=\"colab-df-convert\" onclick=\"convertToInteractive('df-b343bddf-f2d2-49d4-b65b-0be346b434de')\"\n",
              "            title=\"Convert this dataframe to an interactive table.\"\n",
              "            style=\"display:none;\">\n",
              "\n",
              "  <svg xmlns=\"http://www.w3.org/2000/svg\" height=\"24px\" viewBox=\"0 -960 960 960\">\n",
              "    <path d=\"M120-120v-720h720v720H120Zm60-500h600v-160H180v160Zm220 220h160v-160H400v160Zm0 220h160v-160H400v160ZM180-400h160v-160H180v160Zm440 0h160v-160H620v160ZM180-180h160v-160H180v160Zm440 0h160v-160H620v160Z\"/>\n",
              "  </svg>\n",
              "    </button>\n",
              "\n",
              "  <style>\n",
              "    .colab-df-container {\n",
              "      display:flex;\n",
              "      gap: 12px;\n",
              "    }\n",
              "\n",
              "    .colab-df-convert {\n",
              "      background-color: #E8F0FE;\n",
              "      border: none;\n",
              "      border-radius: 50%;\n",
              "      cursor: pointer;\n",
              "      display: none;\n",
              "      fill: #1967D2;\n",
              "      height: 32px;\n",
              "      padding: 0 0 0 0;\n",
              "      width: 32px;\n",
              "    }\n",
              "\n",
              "    .colab-df-convert:hover {\n",
              "      background-color: #E2EBFA;\n",
              "      box-shadow: 0px 1px 2px rgba(60, 64, 67, 0.3), 0px 1px 3px 1px rgba(60, 64, 67, 0.15);\n",
              "      fill: #174EA6;\n",
              "    }\n",
              "\n",
              "    .colab-df-buttons div {\n",
              "      margin-bottom: 4px;\n",
              "    }\n",
              "\n",
              "    [theme=dark] .colab-df-convert {\n",
              "      background-color: #3B4455;\n",
              "      fill: #D2E3FC;\n",
              "    }\n",
              "\n",
              "    [theme=dark] .colab-df-convert:hover {\n",
              "      background-color: #434B5C;\n",
              "      box-shadow: 0px 1px 3px 1px rgba(0, 0, 0, 0.15);\n",
              "      filter: drop-shadow(0px 1px 2px rgba(0, 0, 0, 0.3));\n",
              "      fill: #FFFFFF;\n",
              "    }\n",
              "  </style>\n",
              "\n",
              "    <script>\n",
              "      const buttonEl =\n",
              "        document.querySelector('#df-b343bddf-f2d2-49d4-b65b-0be346b434de button.colab-df-convert');\n",
              "      buttonEl.style.display =\n",
              "        google.colab.kernel.accessAllowed ? 'block' : 'none';\n",
              "\n",
              "      async function convertToInteractive(key) {\n",
              "        const element = document.querySelector('#df-b343bddf-f2d2-49d4-b65b-0be346b434de');\n",
              "        const dataTable =\n",
              "          await google.colab.kernel.invokeFunction('convertToInteractive',\n",
              "                                                    [key], {});\n",
              "        if (!dataTable) return;\n",
              "\n",
              "        const docLinkHtml = 'Like what you see? Visit the ' +\n",
              "          '<a target=\"_blank\" href=https://colab.research.google.com/notebooks/data_table.ipynb>data table notebook</a>'\n",
              "          + ' to learn more about interactive tables.';\n",
              "        element.innerHTML = '';\n",
              "        dataTable['output_type'] = 'display_data';\n",
              "        await google.colab.output.renderOutput(dataTable, element);\n",
              "        const docLink = document.createElement('div');\n",
              "        docLink.innerHTML = docLinkHtml;\n",
              "        element.appendChild(docLink);\n",
              "      }\n",
              "    </script>\n",
              "  </div>\n",
              "\n",
              "\n",
              "<div id=\"df-2aae962b-e74a-4e18-b083-b5fe0051ab15\">\n",
              "  <button class=\"colab-df-quickchart\" onclick=\"quickchart('df-2aae962b-e74a-4e18-b083-b5fe0051ab15')\"\n",
              "            title=\"Suggest charts\"\n",
              "            style=\"display:none;\">\n",
              "\n",
              "<svg xmlns=\"http://www.w3.org/2000/svg\" height=\"24px\"viewBox=\"0 0 24 24\"\n",
              "     width=\"24px\">\n",
              "    <g>\n",
              "        <path d=\"M19 3H5c-1.1 0-2 .9-2 2v14c0 1.1.9 2 2 2h14c1.1 0 2-.9 2-2V5c0-1.1-.9-2-2-2zM9 17H7v-7h2v7zm4 0h-2V7h2v10zm4 0h-2v-4h2v4z\"/>\n",
              "    </g>\n",
              "</svg>\n",
              "  </button>\n",
              "\n",
              "<style>\n",
              "  .colab-df-quickchart {\n",
              "      --bg-color: #E8F0FE;\n",
              "      --fill-color: #1967D2;\n",
              "      --hover-bg-color: #E2EBFA;\n",
              "      --hover-fill-color: #174EA6;\n",
              "      --disabled-fill-color: #AAA;\n",
              "      --disabled-bg-color: #DDD;\n",
              "  }\n",
              "\n",
              "  [theme=dark] .colab-df-quickchart {\n",
              "      --bg-color: #3B4455;\n",
              "      --fill-color: #D2E3FC;\n",
              "      --hover-bg-color: #434B5C;\n",
              "      --hover-fill-color: #FFFFFF;\n",
              "      --disabled-bg-color: #3B4455;\n",
              "      --disabled-fill-color: #666;\n",
              "  }\n",
              "\n",
              "  .colab-df-quickchart {\n",
              "    background-color: var(--bg-color);\n",
              "    border: none;\n",
              "    border-radius: 50%;\n",
              "    cursor: pointer;\n",
              "    display: none;\n",
              "    fill: var(--fill-color);\n",
              "    height: 32px;\n",
              "    padding: 0;\n",
              "    width: 32px;\n",
              "  }\n",
              "\n",
              "  .colab-df-quickchart:hover {\n",
              "    background-color: var(--hover-bg-color);\n",
              "    box-shadow: 0 1px 2px rgba(60, 64, 67, 0.3), 0 1px 3px 1px rgba(60, 64, 67, 0.15);\n",
              "    fill: var(--button-hover-fill-color);\n",
              "  }\n",
              "\n",
              "  .colab-df-quickchart-complete:disabled,\n",
              "  .colab-df-quickchart-complete:disabled:hover {\n",
              "    background-color: var(--disabled-bg-color);\n",
              "    fill: var(--disabled-fill-color);\n",
              "    box-shadow: none;\n",
              "  }\n",
              "\n",
              "  .colab-df-spinner {\n",
              "    border: 2px solid var(--fill-color);\n",
              "    border-color: transparent;\n",
              "    border-bottom-color: var(--fill-color);\n",
              "    animation:\n",
              "      spin 1s steps(1) infinite;\n",
              "  }\n",
              "\n",
              "  @keyframes spin {\n",
              "    0% {\n",
              "      border-color: transparent;\n",
              "      border-bottom-color: var(--fill-color);\n",
              "      border-left-color: var(--fill-color);\n",
              "    }\n",
              "    20% {\n",
              "      border-color: transparent;\n",
              "      border-left-color: var(--fill-color);\n",
              "      border-top-color: var(--fill-color);\n",
              "    }\n",
              "    30% {\n",
              "      border-color: transparent;\n",
              "      border-left-color: var(--fill-color);\n",
              "      border-top-color: var(--fill-color);\n",
              "      border-right-color: var(--fill-color);\n",
              "    }\n",
              "    40% {\n",
              "      border-color: transparent;\n",
              "      border-right-color: var(--fill-color);\n",
              "      border-top-color: var(--fill-color);\n",
              "    }\n",
              "    60% {\n",
              "      border-color: transparent;\n",
              "      border-right-color: var(--fill-color);\n",
              "    }\n",
              "    80% {\n",
              "      border-color: transparent;\n",
              "      border-right-color: var(--fill-color);\n",
              "      border-bottom-color: var(--fill-color);\n",
              "    }\n",
              "    90% {\n",
              "      border-color: transparent;\n",
              "      border-bottom-color: var(--fill-color);\n",
              "    }\n",
              "  }\n",
              "</style>\n",
              "\n",
              "  <script>\n",
              "    async function quickchart(key) {\n",
              "      const quickchartButtonEl =\n",
              "        document.querySelector('#' + key + ' button');\n",
              "      quickchartButtonEl.disabled = true;  // To prevent multiple clicks.\n",
              "      quickchartButtonEl.classList.add('colab-df-spinner');\n",
              "      try {\n",
              "        const charts = await google.colab.kernel.invokeFunction(\n",
              "            'suggestCharts', [key], {});\n",
              "      } catch (error) {\n",
              "        console.error('Error during call to suggestCharts:', error);\n",
              "      }\n",
              "      quickchartButtonEl.classList.remove('colab-df-spinner');\n",
              "      quickchartButtonEl.classList.add('colab-df-quickchart-complete');\n",
              "    }\n",
              "    (() => {\n",
              "      let quickchartButtonEl =\n",
              "        document.querySelector('#df-2aae962b-e74a-4e18-b083-b5fe0051ab15 button');\n",
              "      quickchartButtonEl.style.display =\n",
              "        google.colab.kernel.accessAllowed ? 'block' : 'none';\n",
              "    })();\n",
              "  </script>\n",
              "</div>\n",
              "\n",
              "    </div>\n",
              "  </div>\n"
            ],
            "application/vnd.google.colaboratory.intrinsic+json": {
              "type": "dataframe",
              "variable_name": "df",
              "summary": "{\n  \"name\": \"df\",\n  \"rows\": 100000,\n  \"fields\": [\n    {\n      \"column\": \"gender\",\n      \"properties\": {\n        \"dtype\": \"category\",\n        \"num_unique_values\": 3,\n        \"samples\": [\n          \"Female\",\n          \"Male\",\n          \"Other\"\n        ],\n        \"semantic_type\": \"\",\n        \"description\": \"\"\n      }\n    },\n    {\n      \"column\": \"age\",\n      \"properties\": {\n        \"dtype\": \"number\",\n        \"std\": 22.51683987161513,\n        \"min\": 0.08,\n        \"max\": 80.0,\n        \"num_unique_values\": 102,\n        \"samples\": [\n          29.0,\n          39.0,\n          16.0\n        ],\n        \"semantic_type\": \"\",\n        \"description\": \"\"\n      }\n    },\n    {\n      \"column\": \"hypertension\",\n      \"properties\": {\n        \"dtype\": \"number\",\n        \"std\": 0,\n        \"min\": 0,\n        \"max\": 1,\n        \"num_unique_values\": 2,\n        \"samples\": [\n          1,\n          0\n        ],\n        \"semantic_type\": \"\",\n        \"description\": \"\"\n      }\n    },\n    {\n      \"column\": \"heart_disease\",\n      \"properties\": {\n        \"dtype\": \"number\",\n        \"std\": 0,\n        \"min\": 0,\n        \"max\": 1,\n        \"num_unique_values\": 2,\n        \"samples\": [\n          0,\n          1\n        ],\n        \"semantic_type\": \"\",\n        \"description\": \"\"\n      }\n    },\n    {\n      \"column\": \"smoking_history\",\n      \"properties\": {\n        \"dtype\": \"category\",\n        \"num_unique_values\": 6,\n        \"samples\": [\n          \"never\",\n          \"No Info\"\n        ],\n        \"semantic_type\": \"\",\n        \"description\": \"\"\n      }\n    },\n    {\n      \"column\": \"bmi\",\n      \"properties\": {\n        \"dtype\": \"number\",\n        \"std\": 6.636783416649581,\n        \"min\": 10.01,\n        \"max\": 95.69,\n        \"num_unique_values\": 4247,\n        \"samples\": [\n          53.27,\n          32.33\n        ],\n        \"semantic_type\": \"\",\n        \"description\": \"\"\n      }\n    },\n    {\n      \"column\": \"HbA1c_level\",\n      \"properties\": {\n        \"dtype\": \"number\",\n        \"std\": 1.0706720918832282,\n        \"min\": 3.5,\n        \"max\": 9.0,\n        \"num_unique_values\": 18,\n        \"samples\": [\n          6.6,\n          5.7\n        ],\n        \"semantic_type\": \"\",\n        \"description\": \"\"\n      }\n    },\n    {\n      \"column\": \"blood_glucose_level\",\n      \"properties\": {\n        \"dtype\": \"number\",\n        \"std\": 40,\n        \"min\": 80,\n        \"max\": 300,\n        \"num_unique_values\": 18,\n        \"samples\": [\n          140,\n          80\n        ],\n        \"semantic_type\": \"\",\n        \"description\": \"\"\n      }\n    },\n    {\n      \"column\": \"diabetes\",\n      \"properties\": {\n        \"dtype\": \"number\",\n        \"std\": 0,\n        \"min\": 0,\n        \"max\": 1,\n        \"num_unique_values\": 2,\n        \"samples\": [\n          1,\n          0\n        ],\n        \"semantic_type\": \"\",\n        \"description\": \"\"\n      }\n    }\n  ]\n}"
            }
          },
          "metadata": {},
          "execution_count": 3
        }
      ]
    },
    {
      "cell_type": "markdown",
      "source": [
        "**Dataset Information**"
      ],
      "metadata": {
        "id": "8SfRBYj2-SHD"
      }
    },
    {
      "cell_type": "code",
      "source": [
        "df.shape\n",
        "df.info()"
      ],
      "metadata": {
        "colab": {
          "base_uri": "https://localhost:8080/"
        },
        "id": "3iSTfqPV2LvU",
        "outputId": "2af9eced-8cba-48ea-92d1-31936f16404b"
      },
      "execution_count": null,
      "outputs": [
        {
          "output_type": "stream",
          "name": "stdout",
          "text": [
            "<class 'pandas.core.frame.DataFrame'>\n",
            "RangeIndex: 100000 entries, 0 to 99999\n",
            "Data columns (total 9 columns):\n",
            " #   Column               Non-Null Count   Dtype  \n",
            "---  ------               --------------   -----  \n",
            " 0   gender               100000 non-null  object \n",
            " 1   age                  100000 non-null  float64\n",
            " 2   hypertension         100000 non-null  int64  \n",
            " 3   heart_disease        100000 non-null  int64  \n",
            " 4   smoking_history      100000 non-null  object \n",
            " 5   bmi                  100000 non-null  float64\n",
            " 6   HbA1c_level          100000 non-null  float64\n",
            " 7   blood_glucose_level  100000 non-null  int64  \n",
            " 8   diabetes             100000 non-null  int64  \n",
            "dtypes: float64(3), int64(4), object(2)\n",
            "memory usage: 6.9+ MB\n"
          ]
        }
      ]
    },
    {
      "cell_type": "markdown",
      "source": [
        "**Check Null value**"
      ],
      "metadata": {
        "id": "t27C5kCx-W1q"
      }
    },
    {
      "cell_type": "code",
      "source": [
        "df.isnull().sum()"
      ],
      "metadata": {
        "colab": {
          "base_uri": "https://localhost:8080/",
          "height": 366
        },
        "id": "ZUfGgz942O1T",
        "outputId": "17048608-4305-4964-8839-344354a48de0"
      },
      "execution_count": null,
      "outputs": [
        {
          "output_type": "execute_result",
          "data": {
            "text/plain": [
              "gender                 0\n",
              "age                    0\n",
              "hypertension           0\n",
              "heart_disease          0\n",
              "smoking_history        0\n",
              "bmi                    0\n",
              "HbA1c_level            0\n",
              "blood_glucose_level    0\n",
              "diabetes               0\n",
              "dtype: int64"
            ],
            "text/html": [
              "<div>\n",
              "<style scoped>\n",
              "    .dataframe tbody tr th:only-of-type {\n",
              "        vertical-align: middle;\n",
              "    }\n",
              "\n",
              "    .dataframe tbody tr th {\n",
              "        vertical-align: top;\n",
              "    }\n",
              "\n",
              "    .dataframe thead th {\n",
              "        text-align: right;\n",
              "    }\n",
              "</style>\n",
              "<table border=\"1\" class=\"dataframe\">\n",
              "  <thead>\n",
              "    <tr style=\"text-align: right;\">\n",
              "      <th></th>\n",
              "      <th>0</th>\n",
              "    </tr>\n",
              "  </thead>\n",
              "  <tbody>\n",
              "    <tr>\n",
              "      <th>gender</th>\n",
              "      <td>0</td>\n",
              "    </tr>\n",
              "    <tr>\n",
              "      <th>age</th>\n",
              "      <td>0</td>\n",
              "    </tr>\n",
              "    <tr>\n",
              "      <th>hypertension</th>\n",
              "      <td>0</td>\n",
              "    </tr>\n",
              "    <tr>\n",
              "      <th>heart_disease</th>\n",
              "      <td>0</td>\n",
              "    </tr>\n",
              "    <tr>\n",
              "      <th>smoking_history</th>\n",
              "      <td>0</td>\n",
              "    </tr>\n",
              "    <tr>\n",
              "      <th>bmi</th>\n",
              "      <td>0</td>\n",
              "    </tr>\n",
              "    <tr>\n",
              "      <th>HbA1c_level</th>\n",
              "      <td>0</td>\n",
              "    </tr>\n",
              "    <tr>\n",
              "      <th>blood_glucose_level</th>\n",
              "      <td>0</td>\n",
              "    </tr>\n",
              "    <tr>\n",
              "      <th>diabetes</th>\n",
              "      <td>0</td>\n",
              "    </tr>\n",
              "  </tbody>\n",
              "</table>\n",
              "</div><br><label><b>dtype:</b> int64</label>"
            ]
          },
          "metadata": {},
          "execution_count": 5
        }
      ]
    },
    {
      "cell_type": "markdown",
      "source": [
        "**Visualization**"
      ],
      "metadata": {
        "id": "t-MU-LZ0Bjo6"
      }
    },
    {
      "source": [
        "import pandas as pd\n",
        "import matplotlib.pyplot as plt\n",
        "\n",
        "# 1. Load your dataset\n",
        "data = pd.read_csv('diabetes_prediction_dataset.csv.zip')\n",
        "\n",
        "# 2. Pie chart for diabetes distribution\n",
        "diabetes_counts = data['diabetes'].value_counts()\n",
        "plt.figure(figsize=(6, 6))\n",
        "plt.pie(diabetes_counts, labels=diabetes_counts.index, autopct='%1.1f%%', startangle=90)\n",
        "plt.title('Diabetes Distribution')\n",
        "plt.show()\n",
        "\n",
        "# 3. Bar chart for gender distribution within diabetes categories\n",
        "gender_diabetes = data.groupby(['diabetes', 'gender'])['gender'].count().unstack()\n",
        "gender_diabetes.plot(kind='bar', figsize=(8, 6))\n",
        "plt.title('Gender Distribution within Diabetes Categories')\n",
        "plt.xlabel('Diabetes')\n",
        "plt.ylabel('Count')\n",
        "plt.xticks(rotation=0)\n",
        "plt.legend(title='Gender')\n",
        "plt.show()"
      ],
      "cell_type": "code",
      "metadata": {
        "colab": {
          "base_uri": "https://localhost:8080/",
          "height": 990
        },
        "id": "6sGIDnpMBH-J",
        "outputId": "ea78ad4f-fdd4-43ca-d7d7-96e2ffe13f9d"
      },
      "execution_count": null,
      "outputs": [
        {
          "output_type": "display_data",
          "data": {
            "text/plain": [
              "<Figure size 600x600 with 1 Axes>"
            ],
            "image/png": "[encoded data removed]"
          },
          "metadata": {}
        },
        {
          "output_type": "display_data",
          "data": {
            "text/plain": [
              "<Figure size 800x600 with 1 Axes>"
            ],
            "image/png": "[encoded data removed]"
          },
          "metadata": {}
        }
      ]
    },
    {
      "cell_type": "code",
      "source": [
        "from sklearn.model_selection import train_test_split as split,cross_val_score\n",
        "from sklearn.ensemble import RandomForestClassifier\n",
        "from sklearn.tree import DecisionTreeClassifier\n",
        "from sklearn.svm import SVC\n",
        "from sklearn.ensemble import ExtraTreesClassifier\n",
        "from sklearn.metrics import accuracy_score, confusion_matrix"
      ],
      "metadata": {
        "id": "Fjew65B72UTk"
      },
      "execution_count": null,
      "outputs": []
    },
    {
      "cell_type": "markdown",
      "source": [
        "## **Split dataset**"
      ],
      "metadata": {
        "id": "B-fkbUXS-h6S"
      }
    },
    {
      "source": [
        "from sklearn.model_selection import train_test_split\n",
        "\n",
        "# Features and target\n",
        "features = ['gender', 'age', 'hypertension', 'heart_disease', 'smoking_history', 'bmi', 'HbA1c_level', 'blood_glucose_level']\n",
        "target = 'diabetes'\n",
        "X = df[features]\n",
        "y = df[target]\n",
        "\n",
        "# Split the data\n",
        "x_train, x_test, y_train, y_test = train_test_split(X, y, test_size=0.20, random_state=1)\n",
        "\n",
        "# Print shapes\n",
        "print(f\"Original data has {x_train.shape[0]} train data and {x_test.shape[0]} test data\\n\")"
      ],
      "cell_type": "code",
      "metadata": {
        "colab": {
          "base_uri": "https://localhost:8080/"
        },
        "id": "N1pLdx7N4x56",
        "outputId": "6ffa9bdb-0ac5-4f64-eb6e-e36e07d7b4e0"
      },
      "execution_count": null,
      "outputs": [
        {
          "output_type": "stream",
          "name": "stdout",
          "text": [
            "Original data has 80000 train data and 20000 test data\n",
            "\n"
          ]
        }
      ]
    },
    {
      "cell_type": "markdown",
      "source": [
        "### **DecisionTreeClassifier**"
      ],
      "metadata": {
        "id": "TAinWD56-qGy"
      }
    },
    {
      "cell_type": "code",
      "source": [
        "# Import necessary libraries\n",
        "import pandas as pd\n",
        "from sklearn.model_selection import train_test_split\n",
        "from sklearn.tree import DecisionTreeClassifier\n",
        "from sklearn.metrics import accuracy_score\n",
        "\n",
        "# 1. Load your dataset\n",
        "data = pd.read_csv('/content/diabetes_prediction_dataset.csv.zip', compression='zip')\n",
        "\n",
        "# 2. Encode categorical features\n",
        "# Convert 'gender' to numeric (e.g., Male -> 0, Female -> 1)\n",
        "data['gender'] = data['gender'].map({'Male': 0, 'Female': 1})\n",
        "\n",
        "# Use one-hot encoding for 'smoking_history' (if necessary)\n",
        "data = pd.get_dummies(data, columns=['smoking_history'], drop_first=True)\n",
        "\n",
        "# 3. Define feature columns and target column\n",
        "features = ['gender', 'age', 'hypertension', 'heart_disease', 'bmi', 'HbA1c_level', 'blood_glucose_level'] + \\\n",
        "           [col for col in data.columns if col.startswith('smoking_history_')]\n",
        "target = 'diabetes'\n",
        "\n",
        "# 4. Create feature matrix (X) and target vector (y)\n",
        "X = data[features]\n",
        "y = data[target]\n",
        "\n",
        "# 5. Split the dataset into training and testing sets\n",
        "X_train, X_test, y_train, y_test = train_test_split(X, y, test_size=0.2, random_state=42)\n",
        "\n",
        "# 6. Create and train a Decision Tree Classifier\n",
        "classifier = DecisionTreeClassifier(random_state=42)\n",
        "classifier.fit(X_train, y_train)\n",
        "\n",
        "# 7. Make predictions on the test set\n",
        "y_pred = classifier.predict(X_test)\n",
        "\n",
        "# 8. Evaluate the model's accuracy\n",
        "accuracy = accuracy_score(y_test, y_pred)\n",
        "print(f\"Model Accuracy: {accuracy:.2f}\")\n"
      ],
      "metadata": {
        "colab": {
          "base_uri": "https://localhost:8080/"
        },
        "id": "h-kB0dPh6NZz",
        "outputId": "592bd253-ac13-451b-9a7c-27b7910936e2"
      },
      "execution_count": null,
      "outputs": [
        {
          "output_type": "stream",
          "name": "stdout",
          "text": [
            "Model Accuracy: 0.95\n"
          ]
        }
      ]
    },
    {
      "cell_type": "markdown",
      "source": [
        "**Random Forest Classifier**"
      ],
      "metadata": {
        "id": "_d93st4r-v-C"
      }
    },
    {
      "cell_type": "code",
      "source": [
        "import pandas as pd\n",
        "from sklearn.model_selection import train_test_split\n",
        "from sklearn.ensemble import RandomForestClassifier\n",
        "from sklearn.metrics import accuracy_score\n",
        "from sklearn.preprocessing import LabelEncoder\n",
        "\n",
        "# 1. Load your dataset (replace 'your_dataset.csv' with the actual file name)\n",
        "data = pd.read_csv('/content/diabetes_prediction_dataset.csv.zip')  # Assuming your dataset is in a zip file\n",
        "\n",
        "# 2. Define features and target\n",
        "features = ['gender', 'age', 'hypertension', 'heart_disease', 'smoking_history', 'bmi', 'HbA1c_level', 'blood_glucose_level']\n",
        "target = 'diabetes'\n",
        "\n",
        "# 3. Encode categorical variables\n",
        "# Label encode 'gender' (binary column)\n",
        "label_encoder = LabelEncoder()\n",
        "data['gender'] = label_encoder.fit_transform(data['gender'])  # Converts 'Male' -> 0, 'Female' -> 1 (or vice versa)\n",
        "\n",
        "# Apply one-hot encoding to the 'smoking_history' column\n",
        "data = pd.get_dummies(data, columns=['smoking_history'], drop_first=True)\n",
        "\n",
        "# 4. Update the features list to reflect the new column names\n",
        "# After one-hot encoding, the column 'smoking_history' will be replaced with new columns, so we need to update 'features'\n",
        "updated_features = [col for col in data.columns if col != target]  # Include all columns except the target\n",
        "\n",
        "# 5. Create feature matrix (X) and target vector (y)\n",
        "X = data[updated_features]\n",
        "y = data[target]\n",
        "\n",
        "# 6. Split data into training and testing sets\n",
        "X_train, X_test, y_train, y_test = train_test_split(X, y, test_size=0.2, random_state=42)\n",
        "\n",
        "# 7. Create and train the Random Forest Classifier\n",
        "classifier = RandomForestClassifier(n_estimators=100, random_state=42)\n",
        "classifier.fit(X_train, y_train)\n",
        "\n",
        "# 8. Make predictions on the test set\n",
        "y_pred = classifier.predict(X_test)\n",
        "\n",
        "# 9. Evaluate the model\n",
        "accuracy = accuracy_score(y_test, y_pred)\n",
        "print(f\"Accuracy: {accuracy}\")\n"
      ],
      "metadata": {
        "colab": {
          "base_uri": "https://localhost:8080/"
        },
        "id": "55qE47d58zY6",
        "outputId": "853ca5a1-ae41-4cb1-c46c-3fee58376132"
      },
      "execution_count": null,
      "outputs": [
        {
          "output_type": "stream",
          "name": "stdout",
          "text": [
            "Accuracy: 0.97015\n"
          ]
        }
      ]
    },
    {
      "cell_type": "markdown",
      "source": [
        "**SVC**"
      ],
      "metadata": {
        "id": "Jn4mXgR4_iLT"
      }
    },
    {
      "source": [
        "import pandas as pd\n",
        "from sklearn.model_selection import train_test_split\n",
        "from sklearn.svm import SVC\n",
        "from sklearn.metrics import accuracy_score\n",
        "from sklearn.preprocessing import LabelEncoder, StandardScaler\n",
        "\n",
        "\n",
        "# 1. Load your dataset\n",
        "data = pd.read_csv('/content/diabetes_prediction_dataset.csv.zip')\n",
        "\n",
        "# 2. Handle missing values and encode categorical features\n",
        "data = data.dropna()  # Drop rows with missing values (alternative: fillna())\n",
        "\n",
        "label_enc = LabelEncoder()\n",
        "categorical_columns = ['gender', 'smoking_history']  # Adjust based on your dataset\n",
        "for col in categorical_columns:\n",
        "    data[col] = label_enc.fit_transform(data[col])\n",
        "\n",
        "# 3. Define features (X) and target (y)\n",
        "X = data.drop(columns=['diabetes'])  # Features\n",
        "y = data['diabetes']  # Target column\n",
        "\n",
        "# 4. Split the dataset\n",
        "X_train, X_test, y_train, y_test = train_test_split(X, y, test_size=0.2, random_state=50)\n",
        "\n",
        "# 5. Normalize/standardize the data\n",
        "scaler = StandardScaler()\n",
        "X_train = scaler.fit_transform(X_train)\n",
        "X_test = scaler.transform(X_test)  # Apply the same scaling to the test data\n",
        "\n",
        "# 6. Create and train the SVC classifier\n",
        "classifier = SVC(kernel='linear', random_state=42)  # You can adjust the kernel and other parameters\n",
        "classifier.fit(X_train, y_train)\n",
        "\n",
        "# 7. Make predictions on the test set\n",
        "y_pred = classifier.predict(X_test)\n",
        "\n",
        "# 8. Evaluate the model\n",
        "accuracy = accuracy_score(y_test, y_pred)\n",
        "print(f\"Accuracy: {accuracy}\")"
      ],
      "cell_type": "code",
      "metadata": {
        "colab": {
          "base_uri": "https://localhost:8080/"
        },
        "id": "tjqU8fauCP85",
        "outputId": "7913ebcc-c1d0-4a43-fc05-8c5ea2116d2d"
      },
      "execution_count": null,
      "outputs": [
        {
          "output_type": "stream",
          "name": "stdout",
          "text": [
            "Accuracy: 0.9619\n"
          ]
        }
      ]
    },
    {
      "source": [
        "import pandas as pd\n",
        "from sklearn.model_selection import train_test_split\n",
        "from sklearn.ensemble import RandomForestClassifier  # Import RandomForestClassifier\n",
        "from sklearn.metrics import accuracy_score, classification_report\n",
        "from sklearn.preprocessing import LabelEncoder, StandardScaler\n",
        "\n",
        "# 1. Load your dataset\n",
        "data = pd.read_csv('diabetes_prediction_dataset.csv.zip')\n",
        "\n",
        "# 2. Dropping rows with missing values\n",
        "data = data.dropna()\n",
        "\n",
        "# 3. Encoding categorical columns\n",
        "label_enc = LabelEncoder()\n",
        "categorical_columns = ['gender', 'smoking_history']  # Updated for diabetes dataset\n",
        "for col in categorical_columns:\n",
        "    data[col] = label_enc.fit_transform(data[col])\n",
        "\n",
        "# 4. Defining features (X) and target (y)\n",
        "X = data.drop(columns=['diabetes'])  # Updated target column name\n",
        "y = data['diabetes']\n",
        "\n",
        "# 5. Splitting the dataset into training and testing sets\n",
        "X_train, X_test, y_train, y_test = train_test_split(X, y, test_size=0.2, random_state=50)\n",
        "\n",
        "# 6. Standardizing the data (Optional for Random Forest, but can be used)\n",
        "scaler = StandardScaler()\n",
        "X_train = scaler.fit_transform(X_train)\n",
        "X_test = scaler.transform(X_test)\n",
        "\n",
        "# 7. Training the model - Changed to RandomForestClassifier\n",
        "model = RandomForestClassifier(random_state=50)\n",
        "model.fit(X_train, y_train)\n",
        "\n",
        "# 8. Making predictions\n",
        "y_pred = model.predict(X_test)\n",
        "\n",
        "# 9. Calculating accuracy and classification report\n",
        "accuracy = accuracy_score(y_test, y_pred)\n",
        "classification_rep = classification_report(y_test, y_pred)\n",
        "\n",
        "# 10. Printing results\n",
        "print(f\"Accuracy: {accuracy:.2f}\\n\")\n",
        "print(\"Classification Report:\")\n",
        "print(classification_rep)"
      ],
      "cell_type": "code",
      "metadata": {
        "colab": {
          "base_uri": "https://localhost:8080/"
        },
        "id": "q8G2w6gs1WIj",
        "outputId": "a732537e-7eb1-4267-80f5-6d7c9104ff93"
      },
      "execution_count": null,
      "outputs": [
        {
          "output_type": "stream",
          "name": "stdout",
          "text": [
            "Accuracy: 0.97\n",
            "\n",
            "Classification Report:\n",
            "              precision    recall  f1-score   support\n",
            "\n",
            "           0       0.97      1.00      0.98     18297\n",
            "           1       0.95      0.68      0.80      1703\n",
            "\n",
            "    accuracy                           0.97     20000\n",
            "   macro avg       0.96      0.84      0.89     20000\n",
            "weighted avg       0.97      0.97      0.97     20000\n",
            "\n"
          ]
        }
      ]
    },
    {
      "source": [
        "import pandas as pd\n",
        "from sklearn.model_selection import train_test_split\n",
        "from sklearn.tree import DecisionTreeClassifier  # Import DecisionTreeClassifier\n",
        "from sklearn.metrics import accuracy_score, classification_report\n",
        "from sklearn.preprocessing import LabelEncoder, StandardScaler\n",
        "\n",
        "# 1. Load your dataset\n",
        "data = pd.read_csv('diabetes_prediction_dataset.csv.zip')\n",
        "\n",
        "# 2. Dropping rows with missing values\n",
        "data = data.dropna()\n",
        "\n",
        "# 3. Encoding categorical columns\n",
        "label_enc = LabelEncoder()\n",
        "categorical_columns = ['gender', 'smoking_history']  # Updated for diabetes dataset\n",
        "for col in categorical_columns:\n",
        "    data[col] = label_enc.fit_transform(data[col])\n",
        "\n",
        "# 4. Defining features (X) and target (y)\n",
        "X = data.drop(columns=['diabetes'])  # Updated target column name\n",
        "y = data['diabetes']\n",
        "\n",
        "# 5. Splitting the dataset into training and testing sets\n",
        "X_train, X_test, y_train, y_test = train_test_split(X, y, test_size=0.2, random_state=50)\n",
        "\n",
        "# 6. Standardizing the data (Optional for Decision Tree, but can be used)\n",
        "scaler = StandardScaler()\n",
        "X_train = scaler.fit_transform(X_train)\n",
        "X_test = scaler.transform(X_test)\n",
        "\n",
        "# 7. Training the model - Changed to DecisionTreeClassifier\n",
        "model = DecisionTreeClassifier(random_state=50)\n",
        "model.fit(X_train, y_train)\n",
        "\n",
        "# 8. Making predictions\n",
        "y_pred = model.predict(X_test)\n",
        "\n",
        "# 9. Calculating accuracy and classification report\n",
        "accuracy = accuracy_score(y_test, y_pred)\n",
        "classification_rep = classification_report(y_test, y_pred)\n",
        "\n",
        "# 10. Printing results\n",
        "print(f\"Accuracy: {accuracy:.2f}\\n\")\n",
        "print(\"Classification Report:\")\n",
        "print(classification_rep)"
      ],
      "cell_type": "code",
      "metadata": {
        "colab": {
          "base_uri": "https://localhost:8080/"
        },
        "id": "8n0Ogrcm2LJ8",
        "outputId": "fdaf37a0-2a85-40f5-b1c7-9d846dfa4cec"
      },
      "execution_count": null,
      "outputs": [
        {
          "output_type": "stream",
          "name": "stdout",
          "text": [
            "Accuracy: 0.95\n",
            "\n",
            "Classification Report:\n",
            "              precision    recall  f1-score   support\n",
            "\n",
            "           0       0.98      0.97      0.97     18297\n",
            "           1       0.72      0.74      0.73      1703\n",
            "\n",
            "    accuracy                           0.95     20000\n",
            "   macro avg       0.85      0.86      0.85     20000\n",
            "weighted avg       0.95      0.95      0.95     20000\n",
            "\n"
          ]
        }
      ]
    },
    {
      "source": [
        "from sklearn.model_selection import train_test_split\n",
        "from sklearn.preprocessing import LabelEncoder, StandardScaler\n",
        "from sklearn.svm import SVC\n",
        "from sklearn.metrics import accuracy_score, classification_report\n",
        "import pandas as pd\n",
        "\n",
        "# 1. Load your dataset\n",
        "data = pd.read_csv('diabetes_prediction_dataset.csv.zip')\n",
        "\n",
        "# 2. Dropping rows with missing values\n",
        "data = data.dropna()\n",
        "\n",
        "# 3. Encoding categorical columns\n",
        "label_enc = LabelEncoder()\n",
        "categorical_columns = ['gender', 'smoking_history']  # Updated for diabetes dataset\n",
        "for col in categorical_columns:\n",
        "    data[col] = label_enc.fit_transform(data[col])\n",
        "\n",
        "# 4. Defining features (X) and target (y)\n",
        "X = data.drop(columns=['diabetes'])  # Updated target column name\n",
        "y = data['diabetes']\n",
        "\n",
        "# 5. Splitting the dataset into training and testing sets\n",
        "X_train, X_test, y_train, y_test = train_test_split(X, y, test_size=0.2, random_state=50)\n",
        "\n",
        "# 6. Standardizing the data\n",
        "scaler = StandardScaler()\n",
        "X_train = scaler.fit_transform(X_train)\n",
        "X_test = scaler.transform(X_test)\n",
        "\n",
        "# 7. Training the model\n",
        "model = SVC(random_state=50)\n",
        "model.fit(X_train, y_train)\n",
        "\n",
        "# 8. Making predictions\n",
        "y_pred = model.predict(X_test)\n",
        "\n",
        "# 9. Calculating accuracy and classification report\n",
        "accuracy = accuracy_score(y_test, y_pred)\n",
        "classification_rep = classification_report(y_test, y_pred)\n",
        "\n",
        "# 10. Printing results\n",
        "print(f\"Accuracy: {accuracy:.2f}\\n\")\n",
        "print(\"Classification Report:\")\n",
        "print(classification_rep)"
      ],
      "cell_type": "code",
      "metadata": {
        "colab": {
          "base_uri": "https://localhost:8080/"
        },
        "id": "h8K_K7NEyDUI",
        "outputId": "4aac7f7e-09ff-481b-cc00-be6faf3039e2"
      },
      "execution_count": null,
      "outputs": [
        {
          "output_type": "stream",
          "name": "stdout",
          "text": [
            "Accuracy: 0.96\n",
            "\n",
            "Classification Report:\n",
            "              precision    recall  f1-score   support\n",
            "\n",
            "           0       0.96      1.00      0.98     18297\n",
            "           1       0.98      0.59      0.74      1703\n",
            "\n",
            "    accuracy                           0.96     20000\n",
            "   macro avg       0.97      0.80      0.86     20000\n",
            "weighted avg       0.96      0.96      0.96     20000\n",
            "\n"
          ]
        }
      ]
    },
    {
      "cell_type": "markdown",
      "source": [
        "Confussion Matrix\n"
      ],
      "metadata": {
        "id": "Tn1DqinjDzu9"
      }
    },
    {
      "source": [
        "import pandas as pd\n",
        "from sklearn.model_selection import train_test_split\n",
        "from sklearn.svm import SVC\n",
        "from sklearn.metrics import confusion_matrix, accuracy_score\n",
        "from sklearn.preprocessing import LabelEncoder, StandardScaler\n",
        "\n",
        "# ... (Previous code for loading, preprocessing, splitting, training the SVC model) ...\n",
        "\n",
        "# Generate the confusion matrix\n",
        "cm = confusion_matrix(y_test, y_pred)\n",
        "\n",
        "# Print the confusion matrix\n",
        "print(\"Confusion Matrix:\")\n",
        "print(cm)\n",
        "\n",
        "# (Optional) Visualize the confusion matrix using seaborn\n",
        "import seaborn as sns\n",
        "import matplotlib.pyplot as plt\n",
        "\n",
        "sns.heatmap(cm, annot=True, fmt='d', cmap='Blues')\n",
        "plt.xlabel('Predicted')\n",
        "plt.ylabel('Actual')\n",
        "plt.title('Confusion Matrix')\n",
        "plt.show()"
      ],
      "cell_type": "code",
      "metadata": {
        "colab": {
          "base_uri": "https://localhost:8080/",
          "height": 527
        },
        "id": "h_IYEaIpCn9Z",
        "outputId": "ce297783-9a9a-4b26-956a-08f176ebb582"
      },
      "execution_count": null,
      "outputs": [
        {
          "output_type": "stream",
          "name": "stdout",
          "text": [
            "Confusion Matrix:\n",
            "[[18224    73]\n",
            " [  689  1014]]\n"
          ]
        },
        {
          "output_type": "display_data",
          "data": {
            "text/plain": [
              "<Figure size 640x480 with 2 Axes>"
            ],
            "image/png": "[encoded data removed]"
          },
          "metadata": {}
        }
      ]
    },
    {
      "source": [
        "import pandas as pd\n",
        "from sklearn.svm import SVC\n",
        "from sklearn.metrics import confusion_matrix, ConfusionMatrixDisplay\n",
        "import matplotlib.pyplot as plt\n",
        "from sklearn.model_selection import train_test_split as split\n",
        "from sklearn.preprocessing import LabelEncoder, StandardScaler\n",
        "\n",
        "# 1. Load and preprocess the dataset\n",
        "data = pd.read_csv('diabetes_prediction_dataset.csv.zip')\n",
        "data = data.dropna()  # Drop rows with missing values (alternative: fillna())\n",
        "\n",
        "label_enc = LabelEncoder()\n",
        "categorical_columns = ['gender', 'smoking_history']  # Adjust based on your dataset\n",
        "for col in categorical_columns:\n",
        "    data[col] = label_enc.fit_transform(data[col])\n",
        "\n",
        "# 2. Prepare features and target\n",
        "X = data.drop(\"diabetes\", axis=1)  # Features\n",
        "y = data[\"diabetes\"]  # Target\n",
        "\n",
        "# 3. Split the dataset\n",
        "x_train, x_test, y_train, y_test = split(X, y, test_size=0.20, random_state=1)\n",
        "\n",
        "# 4. Normalize/standardize the data\n",
        "scaler = StandardScaler()\n",
        "x_train = scaler.fit_transform(x_train)\n",
        "x_test = scaler.transform(x_test)\n",
        "\n",
        "# 5. Create and train the SVC model\n",
        "svc = SVC(random_state=50)\n",
        "svc.fit(x_train, y_train)\n",
        "\n",
        "# 6. Make predictions\n",
        "y_pred = svc.predict(x_test)\n",
        "\n",
        "# 7. Compute and visualize the confusion matrix\n",
        "cm = confusion_matrix(y_test, y_pred)\n",
        "disp = ConfusionMatrixDisplay(confusion_matrix=cm, display_labels=svc.classes_)\n",
        "disp.plot(cmap='Blues')\n",
        "plt.title('Confusion Matrix for Diabetes Prediction with SVC')\n",
        "plt.show()"
      ],
      "cell_type": "code",
      "metadata": {
        "colab": {
          "base_uri": "https://localhost:8080/",
          "height": 472
        },
        "id": "4XuAiCHrC6yZ",
        "outputId": "09d1afed-5ddf-4610-dab9-d3726d48e844"
      },
      "execution_count": null,
      "outputs": [
        {
          "output_type": "display_data",
          "data": {
            "text/plain": [
              "<Figure size 640x480 with 2 Axes>"
            ],
            "image/png": "[encoded data removed]"
          },
          "metadata": {}
        }
      ]
    },
    {
      "cell_type": "markdown",
      "source": [
        "**Data Cleaning**"
      ],
      "metadata": {
        "id": "SZhSVwuOEF35"
      }
    },
    {
      "source": [
        "import pandas as pd\n",
        "import seaborn as sns\n",
        "import matplotlib.pyplot as plt\n",
        "\n",
        "# 1. Load your dataset\n",
        "data = pd.read_csv('diabetes_prediction_dataset.csv.zip')\n",
        "\n",
        "# 2. Create the heatmap\n",
        "plt.figure(figsize=(15, 15))\n",
        "sns.heatmap(data.isnull(), cbar=False, cmap='viridis')\n",
        "plt.title('Missing Values Heatmap')\n",
        "plt.show()"
      ],
      "cell_type": "code",
      "metadata": {
        "colab": {
          "base_uri": "https://localhost:8080/",
          "height": 1000
        },
        "id": "sht0wCHqEAdJ",
        "outputId": "b2c11485-2fd0-4f0c-cfce-f7c3ecfca408"
      },
      "execution_count": null,
      "outputs": [
        {
          "output_type": "display_data",
          "data": {
            "text/plain": [
              "<Figure size 1500x1500 with 1 Axes>"
            ],
            "image/png": "[encoded data removed]"
          },
          "metadata": {}
        }
      ]
    },
    {
      "cell_type": "code",
      "source": [
        "df.shape[0]"
      ],
      "metadata": {
        "colab": {
          "base_uri": "https://localhost:8080/"
        },
        "id": "EjEWYwqKEC5R",
        "outputId": "f789ef7e-098a-4f83-ce03-2fa73901884a"
      },
      "execution_count": null,
      "outputs": [
        {
          "output_type": "execute_result",
          "data": {
            "text/plain": [
              "100000"
            ]
          },
          "metadata": {},
          "execution_count": 18
        }
      ]
    },
    {
      "cell_type": "code",
      "source": [
        "null_var = df.isnull().sum()/df.shape[0] *100\n",
        "null_var"
      ],
      "metadata": {
        "colab": {
          "base_uri": "https://localhost:8080/",
          "height": 366
        },
        "id": "0Y3hA10BENx5",
        "outputId": "e8faaf7d-a259-4d92-ea52-ab4f41d3860b"
      },
      "execution_count": null,
      "outputs": [
        {
          "output_type": "execute_result",
          "data": {
            "text/plain": [
              "gender                 0.0\n",
              "age                    0.0\n",
              "hypertension           0.0\n",
              "heart_disease          0.0\n",
              "smoking_history        0.0\n",
              "bmi                    0.0\n",
              "HbA1c_level            0.0\n",
              "blood_glucose_level    0.0\n",
              "diabetes               0.0\n",
              "dtype: float64"
            ],
            "text/html": [
              "<div>\n",
              "<style scoped>\n",
              "    .dataframe tbody tr th:only-of-type {\n",
              "        vertical-align: middle;\n",
              "    }\n",
              "\n",
              "    .dataframe tbody tr th {\n",
              "        vertical-align: top;\n",
              "    }\n",
              "\n",
              "    .dataframe thead th {\n",
              "        text-align: right;\n",
              "    }\n",
              "</style>\n",
              "<table border=\"1\" class=\"dataframe\">\n",
              "  <thead>\n",
              "    <tr style=\"text-align: right;\">\n",
              "      <th></th>\n",
              "      <th>0</th>\n",
              "    </tr>\n",
              "  </thead>\n",
              "  <tbody>\n",
              "    <tr>\n",
              "      <th>gender</th>\n",
              "      <td>0.0</td>\n",
              "    </tr>\n",
              "    <tr>\n",
              "      <th>age</th>\n",
              "      <td>0.0</td>\n",
              "    </tr>\n",
              "    <tr>\n",
              "      <th>hypertension</th>\n",
              "      <td>0.0</td>\n",
              "    </tr>\n",
              "    <tr>\n",
              "      <th>heart_disease</th>\n",
              "      <td>0.0</td>\n",
              "    </tr>\n",
              "    <tr>\n",
              "      <th>smoking_history</th>\n",
              "      <td>0.0</td>\n",
              "    </tr>\n",
              "    <tr>\n",
              "      <th>bmi</th>\n",
              "      <td>0.0</td>\n",
              "    </tr>\n",
              "    <tr>\n",
              "      <th>HbA1c_level</th>\n",
              "      <td>0.0</td>\n",
              "    </tr>\n",
              "    <tr>\n",
              "      <th>blood_glucose_level</th>\n",
              "      <td>0.0</td>\n",
              "    </tr>\n",
              "    <tr>\n",
              "      <th>diabetes</th>\n",
              "      <td>0.0</td>\n",
              "    </tr>\n",
              "  </tbody>\n",
              "</table>\n",
              "</div><br><label><b>dtype:</b> float64</label>"
            ]
          },
          "metadata": {},
          "execution_count": 19
        }
      ]
    },
    {
      "cell_type": "code",
      "source": [
        "null_var"
      ],
      "metadata": {
        "colab": {
          "base_uri": "https://localhost:8080/",
          "height": 366
        },
        "id": "9cZ7Z8x-ERSS",
        "outputId": "4c353c01-7719-4f51-fd38-9955569bf939"
      },
      "execution_count": null,
      "outputs": [
        {
          "output_type": "execute_result",
          "data": {
            "text/plain": [
              "gender                 0.0\n",
              "age                    0.0\n",
              "hypertension           0.0\n",
              "heart_disease          0.0\n",
              "smoking_history        0.0\n",
              "bmi                    0.0\n",
              "HbA1c_level            0.0\n",
              "blood_glucose_level    0.0\n",
              "diabetes               0.0\n",
              "dtype: float64"
            ],
            "text/html": [
              "<div>\n",
              "<style scoped>\n",
              "    .dataframe tbody tr th:only-of-type {\n",
              "        vertical-align: middle;\n",
              "    }\n",
              "\n",
              "    .dataframe tbody tr th {\n",
              "        vertical-align: top;\n",
              "    }\n",
              "\n",
              "    .dataframe thead th {\n",
              "        text-align: right;\n",
              "    }\n",
              "</style>\n",
              "<table border=\"1\" class=\"dataframe\">\n",
              "  <thead>\n",
              "    <tr style=\"text-align: right;\">\n",
              "      <th></th>\n",
              "      <th>0</th>\n",
              "    </tr>\n",
              "  </thead>\n",
              "  <tbody>\n",
              "    <tr>\n",
              "      <th>gender</th>\n",
              "      <td>0.0</td>\n",
              "    </tr>\n",
              "    <tr>\n",
              "      <th>age</th>\n",
              "      <td>0.0</td>\n",
              "    </tr>\n",
              "    <tr>\n",
              "      <th>hypertension</th>\n",
              "      <td>0.0</td>\n",
              "    </tr>\n",
              "    <tr>\n",
              "      <th>heart_disease</th>\n",
              "      <td>0.0</td>\n",
              "    </tr>\n",
              "    <tr>\n",
              "      <th>smoking_history</th>\n",
              "      <td>0.0</td>\n",
              "    </tr>\n",
              "    <tr>\n",
              "      <th>bmi</th>\n",
              "      <td>0.0</td>\n",
              "    </tr>\n",
              "    <tr>\n",
              "      <th>HbA1c_level</th>\n",
              "      <td>0.0</td>\n",
              "    </tr>\n",
              "    <tr>\n",
              "      <th>blood_glucose_level</th>\n",
              "      <td>0.0</td>\n",
              "    </tr>\n",
              "    <tr>\n",
              "      <th>diabetes</th>\n",
              "      <td>0.0</td>\n",
              "    </tr>\n",
              "  </tbody>\n",
              "</table>\n",
              "</div><br><label><b>dtype:</b> float64</label>"
            ]
          },
          "metadata": {},
          "execution_count": 20
        }
      ]
    },
    {
      "cell_type": "code",
      "source": [
        "with pd.option_context('display.max_rows', None, 'display.max_columns', None):\n",
        "  print(null_var)"
      ],
      "metadata": {
        "colab": {
          "base_uri": "https://localhost:8080/"
        },
        "id": "JvuHji3UEUJi",
        "outputId": "d11bebcd-fe31-4cee-b509-c16b1f76b4ce"
      },
      "execution_count": null,
      "outputs": [
        {
          "output_type": "stream",
          "name": "stdout",
          "text": [
            "gender                 0.0\n",
            "age                    0.0\n",
            "hypertension           0.0\n",
            "heart_disease          0.0\n",
            "smoking_history        0.0\n",
            "bmi                    0.0\n",
            "HbA1c_level            0.0\n",
            "blood_glucose_level    0.0\n",
            "diabetes               0.0\n",
            "dtype: float64\n"
          ]
        }
      ]
    },
    {
      "cell_type": "code",
      "source": [
        "drop_columns  = null_var[null_var >10].keys()\n",
        "drop_columns"
      ],
      "metadata": {
        "colab": {
          "base_uri": "https://localhost:8080/"
        },
        "id": "JgV5BMyFEYjR",
        "outputId": "23b79c40-57b8-44b2-ca32-e6adcbcae27b"
      },
      "execution_count": null,
      "outputs": [
        {
          "output_type": "execute_result",
          "data": {
            "text/plain": [
              "Index([], dtype='object')"
            ]
          },
          "metadata": {},
          "execution_count": 22
        }
      ]
    },
    {
      "cell_type": "code",
      "source": [
        "df2_drop_clm =df.drop(columns=drop_columns)"
      ],
      "metadata": {
        "id": "2XxiTMqnEbIS"
      },
      "execution_count": null,
      "outputs": []
    },
    {
      "cell_type": "code",
      "source": [
        "df2_drop_clm.shape"
      ],
      "metadata": {
        "colab": {
          "base_uri": "https://localhost:8080/"
        },
        "id": "9G7C9_vCEsbp",
        "outputId": "dd8acb60-2919-4936-ea15-f660ef932060"
      },
      "execution_count": null,
      "outputs": [
        {
          "output_type": "execute_result",
          "data": {
            "text/plain": [
              "(100000, 9)"
            ]
          },
          "metadata": {},
          "execution_count": 24
        }
      ]
    },
    {
      "cell_type": "code",
      "source": [
        "sns.heatmap(df2_drop_clm.isnull())"
      ],
      "metadata": {
        "colab": {
          "base_uri": "https://localhost:8080/",
          "height": 580
        },
        "id": "_3PvMEXAEeFJ",
        "outputId": "cae1b9ae-7a90-4c5d-eb13-f27bbd82612d"
      },
      "execution_count": null,
      "outputs": [
        {
          "output_type": "execute_result",
          "data": {
            "text/plain": [
              "<Axes: >"
            ]
          },
          "metadata": {},
          "execution_count": 25
        },
        {
          "output_type": "display_data",
          "data": {
            "text/plain": [
              "<Figure size 640x480 with 2 Axes>"
            ],
            "image/png": "[encoded data removed]"
          },
          "metadata": {}
        }
      ]
    },
    {
      "cell_type": "code",
      "source": [
        "df3_drop_rows = df2_drop_clm.dropna()"
      ],
      "metadata": {
        "id": "WavGZF9vEuJR"
      },
      "execution_count": null,
      "outputs": []
    },
    {
      "cell_type": "code",
      "source": [
        "df3_drop_rows.shape"
      ],
      "metadata": {
        "colab": {
          "base_uri": "https://localhost:8080/"
        },
        "id": "kQ29_vQBEzCq",
        "outputId": "658d7366-34ac-4a81-a6ff-b06d394ae801"
      },
      "execution_count": null,
      "outputs": [
        {
          "output_type": "execute_result",
          "data": {
            "text/plain": [
              "(100000, 9)"
            ]
          },
          "metadata": {},
          "execution_count": 27
        }
      ]
    },
    {
      "cell_type": "code",
      "source": [
        "plt.figure(figsize=(10,10))\n",
        "sns.heatmap(df3_drop_rows.isnull())"
      ],
      "metadata": {
        "colab": {
          "base_uri": "https://localhost:8080/",
          "height": 980
        },
        "id": "-W4Q1PcOE1P5",
        "outputId": "2a35a457-59ce-41be-a76a-c8c40ee1dc8a"
      },
      "execution_count": null,
      "outputs": [
        {
          "output_type": "execute_result",
          "data": {
            "text/plain": [
              "<Axes: >"
            ]
          },
          "metadata": {},
          "execution_count": 28
        },
        {
          "output_type": "display_data",
          "data": {
            "text/plain": [
              "<Figure size 1000x1000 with 2 Axes>"
            ],
            "image/png": "[encoded data removed]"
          },
          "metadata": {}
        }
      ]
    },
    {
      "cell_type": "code",
      "source": [
        "df3_drop_rows.isnull().sum().sum()"
      ],
      "metadata": {
        "colab": {
          "base_uri": "https://localhost:8080/"
        },
        "id": "GeNj93UYFA0Z",
        "outputId": "9499e838-df68-4f71-810f-ea099b8f353a"
      },
      "execution_count": null,
      "outputs": [
        {
          "output_type": "execute_result",
          "data": {
            "text/plain": [
              "0"
            ]
          },
          "metadata": {},
          "execution_count": 29
        }
      ]
    },
    {
      "cell_type": "code",
      "source": [
        "df3_drop_rows.select_dtypes(include=['int64','float64']).columns"
      ],
      "metadata": {
        "colab": {
          "base_uri": "https://localhost:8080/"
        },
        "id": "1FzZhZt8FFIy",
        "outputId": "c9839f01-bd10-405b-f18e-f6ec3ebbc3ae"
      },
      "execution_count": null,
      "outputs": [
        {
          "output_type": "execute_result",
          "data": {
            "text/plain": [
              "Index(['age', 'hypertension', 'heart_disease', 'bmi', 'HbA1c_level',\n",
              "       'blood_glucose_level', 'diabetes'],\n",
              "      dtype='object')"
            ]
          },
          "metadata": {},
          "execution_count": 30
        }
      ]
    },
    {
      "cell_type": "markdown",
      "source": [
        "### Boxplot"
      ],
      "metadata": {
        "id": "Ud2gopYGFHVy"
      }
    },
    {
      "source": [
        "import matplotlib.pyplot as plt\n",
        "import seaborn as sns\n",
        "\n",
        "# List of features to plot (adjusted for your dataset)\n",
        "features = ['age', 'hypertension', 'heart_disease', 'bmi', 'HbA1c_level', 'blood_glucose_level']\n",
        "\n",
        "# Assuming 'data' is your DataFrame (loaded as in previous examples)\n",
        "plt.figure(figsize=(15, 10))\n",
        "\n",
        "for i, col in enumerate(features, 1):\n",
        "    plt.subplot(len(features) // 3 + 1, 3, i)\n",
        "    sns.boxplot(x=data[col])  # Use 'data' instead of 'df'\n",
        "    plt.title(f'Boxplot of {col}')\n",
        "\n",
        "plt.tight_layout()\n",
        "plt.show()"
      ],
      "cell_type": "code",
      "metadata": {
        "colab": {
          "base_uri": "https://localhost:8080/",
          "height": 727
        },
        "id": "bRfm-xezFRXR",
        "outputId": "f6c17970-40e0-4d5e-f190-c29b19d785b6"
      },
      "execution_count": null,
      "outputs": [
        {
          "output_type": "display_data",
          "data": {
            "text/plain": [
              "<Figure size 1500x1000 with 6 Axes>"
            ],
            "image/png": "[encoded data removed]"
          },
          "metadata": {}
        }
      ]
    },
    {
      "cell_type": "markdown",
      "source": [
        "### ***count_outliers***"
      ],
      "metadata": {
        "id": "QVrP3bnlFZ76"
      }
    },
    {
      "source": [
        "import pandas as pd\n",
        "\n",
        "# 1. Load your dataset\n",
        "data = pd.read_csv('diabetes_prediction_dataset.csv.zip')\n",
        "\n",
        "# 2. Function to count outliers using IQR (no changes needed)\n",
        "def count_outliers(df):\n",
        "    outlier_counts = {}\n",
        "    for col in df.columns:\n",
        "        if pd.api.types.is_numeric_dtype(df[col]):\n",
        "            Q1 = df[col].quantile(0.25)\n",
        "            Q3 = df[col].quantile(0.75)\n",
        "            IQR = Q3 - Q1\n",
        "            lower_bound = Q1 - 1.5 * IQR\n",
        "            upper_bound = Q3 + 1.5 * IQR\n",
        "            outliers = ((df[col] < lower_bound) | (df[col] > upper_bound)).sum()\n",
        "            outlier_counts[col] = outliers\n",
        "    outlier_counts_df = pd.DataFrame(list(outlier_counts.items()), columns=['Column', 'Outlier Count'])\n",
        "    return outlier_counts_df.sort_values(by='Outlier Count', ascending=False)\n",
        "\n",
        "# 3. Get the outlier counts for your dataset\n",
        "outlier_counts = count_outliers(data)  # Use 'data' instead of 'df'\n",
        "print(outlier_counts)"
      ],
      "cell_type": "code",
      "metadata": {
        "colab": {
          "base_uri": "https://localhost:8080/"
        },
        "id": "yWwR27DqFmmJ",
        "outputId": "c697d93e-888a-4e51-e484-bc0fe165cf33"
      },
      "execution_count": null,
      "outputs": [
        {
          "output_type": "stream",
          "name": "stdout",
          "text": [
            "                Column  Outlier Count\n",
            "6             diabetes           8500\n",
            "1         hypertension           7485\n",
            "3                  bmi           7086\n",
            "2        heart_disease           3942\n",
            "5  blood_glucose_level           2038\n",
            "4          HbA1c_level           1315\n",
            "0                  age              0\n"
          ]
        }
      ]
    },
    {
      "cell_type": "markdown",
      "source": [
        "### ***cap_outliers***"
      ],
      "metadata": {
        "id": "DWPmAACzFrpC"
      }
    },
    {
      "source": [
        "import pandas as pd\n",
        "import numpy as np\n",
        "\n",
        "# 1. Load your dataset\n",
        "data = pd.read_csv('diabetes_prediction_dataset.csv.zip')\n",
        "\n",
        "# 2. Function to cap outliers (no changes needed)\n",
        "def cap_outliers(df, columns):\n",
        "    for col in columns:\n",
        "        Q1 = df[col].quantile(0.25)\n",
        "        Q3 = df[col].quantile(0.75)\n",
        "        IQR = Q3 - Q1\n",
        "        lower_bound = Q1 - 1.5 * IQR\n",
        "        upper_bound = Q3 + 1.5 * IQR\n",
        "        df[col] = np.where(df[col] < lower_bound, lower_bound, df[col])\n",
        "        df[col] = np.where(df[col] > upper_bound, upper_bound, df[col])\n",
        "    return df\n",
        "\n",
        "# 3. Identify numeric columns and cap outliers\n",
        "numeric_cols = data.select_dtypes(include=['float64', 'int64']).columns  # Use 'data' instead of 'df'\n",
        "data_capped = cap_outliers(data, numeric_cols)  # Use 'data' instead of 'df'\n",
        "\n",
        "# 4. Save or display the modified dataframe\n",
        "data_capped.to_csv('diabetes_prediction_capped.csv', index=False)  # Change file name\n",
        "print(data_capped.head())"
      ],
      "cell_type": "code",
      "metadata": {
        "colab": {
          "base_uri": "https://localhost:8080/"
        },
        "id": "_FKq3kxmF4k5",
        "outputId": "bf81d2ba-c049-411b-a3f6-6c75f263944c"
      },
      "execution_count": null,
      "outputs": [
        {
          "output_type": "stream",
          "name": "stdout",
          "text": [
            "   gender   age  hypertension  heart_disease smoking_history    bmi  \\\n",
            "0  Female  80.0           0.0            0.0           never  25.19   \n",
            "1  Female  54.0           0.0            0.0         No Info  27.32   \n",
            "2    Male  28.0           0.0            0.0           never  27.32   \n",
            "3  Female  36.0           0.0            0.0         current  23.45   \n",
            "4    Male  76.0           0.0            0.0         current  20.14   \n",
            "\n",
            "   HbA1c_level  blood_glucose_level  diabetes  \n",
            "0          6.6                140.0       0.0  \n",
            "1          6.6                 80.0       0.0  \n",
            "2          5.7                158.0       0.0  \n",
            "3          5.0                155.0       0.0  \n",
            "4          4.8                155.0       0.0  \n"
          ]
        }
      ]
    },
    {
      "source": [
        "import pandas as pd\n",
        "\n",
        "# 1. Load your dataset\n",
        "data = pd.read_csv('diabetes_prediction_dataset.csv.zip')\n",
        "\n",
        "# 2. Identify numeric columns\n",
        "numeric_cols = data.select_dtypes(include=['number']).columns\n",
        "\n",
        "# 3. Capping outliers at 1.5*IQR for numeric columns only\n",
        "Q1 = data[numeric_cols].quantile(0.25)\n",
        "Q3 = data[numeric_cols].quantile(0.75)\n",
        "IQR = Q3 - Q1\n",
        "\n",
        "data_capped = data.copy()  # Create a copy to avoid modifying the original DataFrame\n",
        "data_capped[numeric_cols] = data_capped[numeric_cols].apply(lambda x: x.clip(lower=Q1[x.name] - 1.5 * IQR[x.name],\n",
        "                                                                           upper=Q3[x.name] + 1.5 * IQR[x.name]))\n",
        "\n",
        "# 4. (Optional) Print or save the modified DataFrame\n",
        "print(data_capped.head())\n",
        "# data_capped.to_csv('diabetes_prediction_capped.csv', index=False)"
      ],
      "cell_type": "code",
      "metadata": {
        "colab": {
          "base_uri": "https://localhost:8080/"
        },
        "id": "0Cr6qLhoGB2h",
        "outputId": "008b6722-7561-4157-84b7-606b3091ab17"
      },
      "execution_count": null,
      "outputs": [
        {
          "output_type": "stream",
          "name": "stdout",
          "text": [
            "   gender   age  hypertension  heart_disease smoking_history    bmi  \\\n",
            "0  Female  80.0             0              0           never  25.19   \n",
            "1  Female  54.0             0              0         No Info  27.32   \n",
            "2    Male  28.0             0              0           never  27.32   \n",
            "3  Female  36.0             0              0         current  23.45   \n",
            "4    Male  76.0             0              0         current  20.14   \n",
            "\n",
            "   HbA1c_level  blood_glucose_level  diabetes  \n",
            "0          6.6                140.0         0  \n",
            "1          6.6                 80.0         0  \n",
            "2          5.7                158.0         0  \n",
            "3          5.0                155.0         0  \n",
            "4          4.8                155.0         0  \n"
          ]
        }
      ]
    },
    {
      "source": [
        "import pandas as pd\n",
        "\n",
        "# 1. Load your dataset\n",
        "data = pd.read_csv('diabetes_prediction_dataset.csv.zip')\n",
        "\n",
        "# 2. Identify numeric columns\n",
        "numeric_cols = data.select_dtypes(include=['number']).columns\n",
        "\n",
        "# 3. Calculate IQR for numeric columns\n",
        "Q1 = data[numeric_cols].quantile(0.25)\n",
        "Q3 = data[numeric_cols].quantile(0.75)\n",
        "IQR = Q3 - Q1\n",
        "\n",
        "# 4. Remove outliers from numeric columns\n",
        "data_no_outliers = data[~((data[numeric_cols] < (Q1 - 1.5 * IQR)) | (data[numeric_cols] > (Q3 + 1.5 * IQR))).any(axis=1)]\n",
        "\n",
        "# 5. (Optional) Print or save the modified DataFrame\n",
        "print(data_no_outliers.head())\n",
        "# data_no_outliers.to_csv('diabetes_prediction_no_outliers.csv', index=False)"
      ],
      "cell_type": "code",
      "metadata": {
        "colab": {
          "base_uri": "https://localhost:8080/"
        },
        "id": "aHtsSlDIGNoh",
        "outputId": "233e3083-5119-450c-f9e4-e6f5f44503aa"
      },
      "execution_count": null,
      "outputs": [
        {
          "output_type": "stream",
          "name": "stdout",
          "text": [
            "   gender   age  hypertension  heart_disease smoking_history    bmi  \\\n",
            "1  Female  54.0             0              0         No Info  27.32   \n",
            "2    Male  28.0             0              0           never  27.32   \n",
            "3  Female  36.0             0              0         current  23.45   \n",
            "5  Female  20.0             0              0           never  27.32   \n",
            "7  Female  79.0             0              0         No Info  23.86   \n",
            "\n",
            "   HbA1c_level  blood_glucose_level  diabetes  \n",
            "1          6.6                   80         0  \n",
            "2          5.7                  158         0  \n",
            "3          5.0                  155         0  \n",
            "5          6.6                   85         0  \n",
            "7          5.7                   85         0  \n"
          ]
        }
      ]
    },
    {
      "cell_type": "markdown",
      "source": [
        "## **SMOTE**"
      ],
      "metadata": {
        "id": "sKBwNac-GWuL"
      }
    },
    {
      "cell_type": "code",
      "source": [
        "from imblearn.over_sampling import SMOTE\n",
        "import pandas as pd\n",
        "\n",
        "# Apply SMOTE to balance the classes\n",
        "smote = SMOTE(random_state=42)\n",
        "X_smote, y_smote = smote.fit_resample(X, y)\n",
        "\n",
        "# Show the result of resampling\n",
        "print(\"Original dataset class distribution:\")\n",
        "print(y.value_counts())\n",
        "\n",
        "print(\"\\nResampled dataset class distribution:\")\n",
        "print(pd.Series(y_smote).value_counts())"
      ],
      "metadata": {
        "colab": {
          "base_uri": "https://localhost:8080/"
        },
        "id": "c4KmvrFoGY5p",
        "outputId": "aea27d28-a605-4407-9060-8b43297035ac"
      },
      "execution_count": null,
      "outputs": [
        {
          "output_type": "stream",
          "name": "stdout",
          "text": [
            "Original dataset class distribution:\n",
            "diabetes\n",
            "0    91500\n",
            "1     8500\n",
            "Name: count, dtype: int64\n",
            "\n",
            "Resampled dataset class distribution:\n",
            "diabetes\n",
            "0    91500\n",
            "1    91500\n",
            "Name: count, dtype: int64\n"
          ]
        }
      ]
    },
    {
      "cell_type": "markdown",
      "source": [
        "### **Random Forest Accuracy After SMOTE**"
      ],
      "metadata": {
        "id": "INWba7ycGhXK"
      }
    },
    {
      "source": [
        "from sklearn.ensemble import RandomForestClassifier\n",
        "from sklearn.metrics import accuracy_score, classification_report\n",
        "from imblearn.over_sampling import SMOTE\n",
        "\n",
        "# ... (Your previous code for loading and preprocessing data) ...\n",
        "\n",
        "# 1. Apply SMOTE\n",
        "smote = SMOTE(random_state=42)  # You can adjust the random_state\n",
        "X_train_res, y_train_res = smote.fit_resample(X_train, y_train)  # Create resampled data\n",
        "\n",
        "# 2. Initialize Random Forest model\n",
        "rf_model = RandomForestClassifier(n_estimators=100, random_state=42)\n",
        "\n",
        "# 3. Train the model using resampled data\n",
        "rf_model.fit(X_train_res, y_train_res)\n",
        "\n",
        "# 4. Make predictions on the original test set (X_test)\n",
        "y_pred_rf = rf_model.predict(X_test)\n",
        "\n",
        "# 5. Evaluate the model\n",
        "accuracy_rf = accuracy_score(y_test, y_pred_rf)\n",
        "print(\"Random Forest Accuracy with SMOTE:\", accuracy_rf)\n",
        "print(classification_report(y_test, y_pred_rf))"
      ],
      "cell_type": "code",
      "metadata": {
        "id": "qKmsmLX0Htk4",
        "colab": {
          "base_uri": "https://localhost:8080/"
        },
        "outputId": "e34fc30b-b6cb-47d2-f340-cb1e9d0fb56f"
      },
      "execution_count": null,
      "outputs": [
        {
          "output_type": "stream",
          "name": "stdout",
          "text": [
            "Random Forest Accuracy with SMOTE: 0.9614\n",
            "              precision    recall  f1-score   support\n",
            "\n",
            "           0       0.98      0.98      0.98     18297\n",
            "           1       0.79      0.75      0.77      1703\n",
            "\n",
            "    accuracy                           0.96     20000\n",
            "   macro avg       0.88      0.86      0.87     20000\n",
            "weighted avg       0.96      0.96      0.96     20000\n",
            "\n"
          ]
        }
      ]
    },
    {
      "cell_type": "markdown",
      "source": [
        "### **SVC with SMOTE**"
      ],
      "metadata": {
        "id": "T26gcmGLB4u9"
      }
    },
    {
      "cell_type": "code",
      "source": [
        "# Import required libraries\n",
        "from sklearn.svm import SVC\n",
        "from sklearn.metrics import accuracy_score, classification_report\n",
        "from sklearn.model_selection import train_test_split\n",
        "from imblearn.over_sampling import SMOTE\n",
        "from sklearn.preprocessing import LabelEncoder, StandardScaler\n",
        "import pandas as pd\n",
        "\n",
        "# 1. Load and preprocess your dataset\n",
        "data = pd.read_csv('diabetes_prediction_dataset.csv.zip')\n",
        "\n",
        "# 2. Handle categorical features (if any)\n",
        "label_enc = LabelEncoder()\n",
        "categorical_columns = ['gender', 'smoking_history']  # Adjust based on your dataset\n",
        "for col in categorical_columns:\n",
        "    data[col] = label_enc.fit_transform(data[col])\n",
        "\n",
        "# 3. Define features (X) and target (y)\n",
        "X = data.drop(columns=['diabetes'])\n",
        "y = data['diabetes']\n",
        "\n",
        "# 4. Split the dataset into training and testing sets\n",
        "X_train, X_test, y_train, y_test = train_test_split(X, y, test_size=0.2, random_state=42)\n",
        "\n",
        "# 5. Apply SMOTE to handle class imbalance\n",
        "smote = SMOTE(random_state=42)\n",
        "X_train_res, y_train_res = smote.fit_resample(X_train, y_train)\n",
        "\n",
        "# 6. Scale the data\n",
        "scaler = StandardScaler()\n",
        "X_train_res = scaler.fit_transform(X_train_res)\n",
        "X_test = scaler.transform(X_test)  # Use the same scaler for test data\n",
        "\n",
        "# 7. Initialize and train the SVC model\n",
        "svc_model = SVC(kernel='linear', random_state=42)\n",
        "svc_model.fit(X_train_res, y_train_res)\n",
        "\n",
        "# 8. Make predictions and evaluate the model\n",
        "y_pred_svc = svc_model.predict(X_test)\n",
        "accuracy_svc = accuracy_score(y_test, y_pred_svc)\n",
        "\n",
        "# 9. Print the results\n",
        "print(\"SVC Accuracy with SMOTE:\", accuracy_svc)\n",
        "print(classification_report(y_test, y_pred_svc))\n"
      ],
      "metadata": {
        "colab": {
          "base_uri": "https://localhost:8080/"
        },
        "id": "4O6xJtwjAW0e",
        "outputId": "a3d78ec4-ab5d-4cb7-d5c6-28bcac9ffe2b"
      },
      "execution_count": null,
      "outputs": [
        {
          "output_type": "stream",
          "name": "stdout",
          "text": [
            "SVC Accuracy with SMOTE: 0.87985\n",
            "              precision    recall  f1-score   support\n",
            "\n",
            "           0       0.98      0.88      0.93     18292\n",
            "           1       0.40      0.85      0.55      1708\n",
            "\n",
            "    accuracy                           0.88     20000\n",
            "   macro avg       0.69      0.87      0.74     20000\n",
            "weighted avg       0.94      0.88      0.90     20000\n",
            "\n"
          ]
        }
      ]
    },
    {
      "cell_type": "markdown",
      "source": [
        "## **Decision Tree Accuracy with SMOTE**"
      ],
      "metadata": {
        "id": "OwPbNKhmB9_V"
      }
    },
    {
      "source": [
        "import pandas as pd\n",
        "from sklearn.model_selection import train_test_split\n",
        "from sklearn.tree import DecisionTreeClassifier\n",
        "from sklearn.metrics import accuracy_score, classification_report\n",
        "from imblearn.over_sampling import SMOTE\n",
        "from sklearn.preprocessing import LabelEncoder\n",
        "\n",
        "\n",
        "# 1. Load and preprocess the dataset\n",
        "data = pd.read_csv('diabetes_prediction_dataset.csv.zip')\n",
        "\n",
        "# 2. Handle categorical features\n",
        "label_enc = LabelEncoder()\n",
        "categorical_columns = ['gender', 'smoking_history']\n",
        "for col in categorical_columns:\n",
        "    data[col] = label_enc.fit_transform(data[col])\n",
        "\n",
        "# 3. Define features and target\n",
        "X = data.drop(columns=['diabetes'])\n",
        "y = data['diabetes']\n",
        "\n",
        "# 4. Split data into training and testing sets\n",
        "X_train, X_test, y_train, y_test = train_test_split(X, y, test_size=0.2, random_state=42)\n",
        "\n",
        "# 5. Apply SMOTE to the training data ONLY\n",
        "smote = SMOTE(random_state=42)\n",
        "X_train_res, y_train_res = smote.fit_resample(X_train, y_train)\n",
        "\n",
        "# 6. Initialize and train the Decision Tree model\n",
        "dt_model = DecisionTreeClassifier(random_state=42)\n",
        "dt_model.fit(X_train_res, y_train_res)\n",
        "\n",
        "# 7. Make predictions and evaluate\n",
        "y_pred_dt = dt_model.predict(X_test)\n",
        "accuracy_dt = accuracy_score(y_test, y_pred_dt)\n",
        "print(\"Decision Tree Accuracy with SMOTE:\", accuracy_dt)\n",
        "print(classification_report(y_test, y_pred_dt))"
      ],
      "cell_type": "code",
      "metadata": {
        "colab": {
          "base_uri": "https://localhost:8080/"
        },
        "id": "yhiBKojOCMZ8",
        "outputId": "254ecdf2-5c5e-4ab1-ef81-247d59fa16c1"
      },
      "execution_count": null,
      "outputs": [
        {
          "output_type": "stream",
          "name": "stdout",
          "text": [
            "Decision Tree Accuracy with SMOTE: 0.9479\n",
            "              precision    recall  f1-score   support\n",
            "\n",
            "           0       0.98      0.97      0.97     18292\n",
            "           1       0.68      0.74      0.71      1708\n",
            "\n",
            "    accuracy                           0.95     20000\n",
            "   macro avg       0.83      0.85      0.84     20000\n",
            "weighted avg       0.95      0.95      0.95     20000\n",
            "\n"
          ]
        }
      ]
    },
    {
      "cell_type": "markdown",
      "source": [
        "## **ADASYN **"
      ],
      "metadata": {
        "id": "-UCm7yoXCU1d"
      }
    },
    {
      "cell_type": "code",
      "source": [
        "from imblearn.over_sampling import ADASYN\n",
        "\n",
        "# Create an ADASYN instance\n",
        "adasyn = ADASYN(random_state=42)\n",
        "\n",
        "# Resample the dataset\n",
        "X_adasyn, y_adasyn = adasyn.fit_resample(X, y)\n",
        "\n",
        "# Print the shapes of the original and resampled datasets\n",
        "print(\"Original dataset shape:\", X.shape, y.shape)\n",
        "print(\"Resampled dataset shape:\", X_adasyn.shape, y_adasyn.shape)"
      ],
      "metadata": {
        "colab": {
          "base_uri": "https://localhost:8080/"
        },
        "id": "No0TbWCyCYd8",
        "outputId": "f56148f7-34d9-412e-a81d-cf776527e50e"
      },
      "execution_count": null,
      "outputs": [
        {
          "output_type": "stream",
          "name": "stdout",
          "text": [
            "Original dataset shape: (100000, 8) (100000,)\n",
            "Resampled dataset shape: (183556, 8) (183556,)\n"
          ]
        }
      ]
    },
    {
      "cell_type": "markdown",
      "source": [
        "**Decision Tree with ADASYN Accuracy**"
      ],
      "metadata": {
        "id": "Uyo8FsTbEvrE"
      }
    },
    {
      "cell_type": "code",
      "source": [
        "dt_model.fit(X_adasyn, y_adasyn)\n",
        "y_pred = dt_model.predict(X_test)\n",
        "print(\"Decision Tree with ADASYN Accuracy:\", accuracy_score(y_test, y_pred))"
      ],
      "metadata": {
        "colab": {
          "base_uri": "https://localhost:8080/"
        },
        "id": "I_zQdQT4EooV",
        "outputId": "fdb9255a-1d0c-4d01-bb5f-49db70cc2519"
      },
      "execution_count": null,
      "outputs": [
        {
          "output_type": "stream",
          "name": "stdout",
          "text": [
            "Decision Tree with ADASYN Accuracy: 0.99855\n"
          ]
        }
      ]
    },
    {
      "source": [
        "import pandas as pd\n",
        "from sklearn.model_selection import train_test_split\n",
        "from sklearn.tree import DecisionTreeClassifier\n",
        "from sklearn.metrics import accuracy_score, classification_report  # Import classification_report\n",
        "from imblearn.over_sampling import ADASYN\n",
        "from sklearn.preprocessing import LabelEncoder\n",
        "\n",
        "# 1. Load and preprocess your dataset\n",
        "data = pd.read_csv('diabetes_prediction_dataset.csv.zip')\n",
        "\n",
        "# 2. Handle categorical features\n",
        "label_enc = LabelEncoder()\n",
        "categorical_columns = ['gender', 'smoking_history']\n",
        "for col in categorical_columns:\n",
        "    data[col] = label_enc.fit_transform(data[col])\n",
        "\n",
        "# 3. Define features (X) and target (y)\n",
        "X = data.drop(columns=['diabetes'])\n",
        "y = data['diabetes']\n",
        "\n",
        "# 4. Split data into training and testing sets\n",
        "X_train, X_test, y_train, y_test = train_test_split(X, y, test_size=0.2, random_state=42)\n",
        "\n",
        "# 5. Apply ADASYN to the training data ONLY\n",
        "adasyn = ADASYN(random_state=42)\n",
        "X_train_resampled, y_train_resampled = adasyn.fit_resample(X_train, y_train)\n",
        "\n",
        "# 6. Initialize and train the Decision Tree model with resampled data\n",
        "dt_model = DecisionTreeClassifier(random_state=42)\n",
        "dt_model.fit(X_train_resampled, y_train_resampled)\n",
        "\n",
        "# 7. Make predictions on the test set\n",
        "y_pred = dt_model.predict(X_test)\n",
        "\n",
        "# 8. Evaluate the model\n",
        "print(\"Decision Tree with ADASYN Accuracy:\", accuracy_score(y_test, y_pred))\n",
        "\n",
        "# 9. Print classification report with precision, recall, F1-score, and support\n",
        "print(\"\\nClassification Report:\\n\", classification_report(y_test, y_pred))"
      ],
      "cell_type": "code",
      "metadata": {
        "colab": {
          "base_uri": "https://localhost:8080/"
        },
        "id": "f2ccp0gX6GDO",
        "outputId": "7e3e3473-5583-46de-9df1-f34440b36dd6"
      },
      "execution_count": null,
      "outputs": [
        {
          "output_type": "stream",
          "name": "stdout",
          "text": [
            "Decision Tree with ADASYN Accuracy: 0.95045\n",
            "\n",
            "Classification Report:\n",
            "               precision    recall  f1-score   support\n",
            "\n",
            "           0       0.98      0.97      0.97     18292\n",
            "           1       0.70      0.74      0.72      1708\n",
            "\n",
            "    accuracy                           0.95     20000\n",
            "   macro avg       0.84      0.86      0.85     20000\n",
            "weighted avg       0.95      0.95      0.95     20000\n",
            "\n"
          ]
        }
      ]
    },
    {
      "source": [
        "import pandas as pd\n",
        "from sklearn.model_selection import train_test_split\n",
        "from sklearn.svm import SVC  # Import SVC\n",
        "from sklearn.metrics import accuracy_score, classification_report\n",
        "from imblearn.over_sampling import ADASYN\n",
        "from sklearn.preprocessing import LabelEncoder, StandardScaler # Import StandardScaler\n",
        "\n",
        "# 1. Load and preprocess your dataset\n",
        "data = pd.read_csv('diabetes_prediction_dataset.csv.zip')\n",
        "\n",
        "# 2. Handle categorical features\n",
        "label_enc = LabelEncoder()\n",
        "categorical_columns = ['gender', 'smoking_history']\n",
        "for col in categorical_columns:\n",
        "    data[col] = label_enc.fit_transform(data[col])\n",
        "\n",
        "# 3. Define features (X) and target (y)\n",
        "X = data.drop(columns=['diabetes'])\n",
        "y = data['diabetes']\n",
        "\n",
        "# 4. Split data into training and testing sets\n",
        "X_train, X_test, y_train, y_test = train_test_split(X, y, test_size=0.2, random_state=42)\n",
        "\n",
        "# 5. Apply ADASYN to the training data ONLY\n",
        "adasyn = ADASYN(random_state=42)\n",
        "X_train_resampled, y_train_resampled = adasyn.fit_resample(X_train, y_train)\n",
        "\n",
        "# 6. Scale the data (important for SVC)\n",
        "scaler = StandardScaler()\n",
        "X_train_resampled = scaler.fit_transform(X_train_resampled)\n",
        "X_test = scaler.transform(X_test)\n",
        "\n",
        "# 7. Initialize and train the SVC model with resampled data\n",
        "svc_model = SVC(random_state=42)  # Initialize SVC\n",
        "svc_model.fit(X_train_resampled, y_train_resampled)\n",
        "\n",
        "# 8. Make predictions on the test set\n",
        "y_pred = svc_model.predict(X_test)\n",
        "\n",
        "# 9. Evaluate the model\n",
        "print(\"SVC with ADASYN Accuracy:\", accuracy_score(y_test, y_pred))\n",
        "\n",
        "# 10. Print classification report\n",
        "print(\"\\nClassification Report:\\n\", classification_report(y_test, y_pred))"
      ],
      "cell_type": "code",
      "metadata": {
        "colab": {
          "base_uri": "https://localhost:8080/"
        },
        "id": "NQ9V746y6YRT",
        "outputId": "77a20b6f-699f-48b4-de71-149c92643174"
      },
      "execution_count": null,
      "outputs": [
        {
          "output_type": "stream",
          "name": "stdout",
          "text": [
            "SVC with ADASYN Accuracy: 0.83185\n",
            "\n",
            "Classification Report:\n",
            "               precision    recall  f1-score   support\n",
            "\n",
            "           0       0.99      0.82      0.90     18292\n",
            "           1       0.33      0.94      0.49      1708\n",
            "\n",
            "    accuracy                           0.83     20000\n",
            "   macro avg       0.66      0.88      0.69     20000\n",
            "weighted avg       0.94      0.83      0.86     20000\n",
            "\n"
          ]
        }
      ]
    },
    {
      "cell_type": "markdown",
      "source": [
        "**SVC with ADASYN Accuracy**"
      ],
      "metadata": {
        "id": "MVxZ2dQKEz1r"
      }
    },
    {
      "cell_type": "code",
      "source": [
        "from sklearn.feature_selection import f_classif, SelectKBest\n",
        "\n",
        "anova_selector = SelectKBest(f_classif, k='all')\n",
        "anova_selector.fit(X, y)\n",
        "print(\"ANOVA Scores:\", anova_selector.scores_)"
      ],
      "metadata": {
        "id": "ulAcAEMeNYD3",
        "colab": {
          "base_uri": "https://localhost:8080/"
        },
        "outputId": "ab7f88ee-d67c-4a19-a207-4fb0c62f817b"
      },
      "execution_count": null,
      "outputs": [
        {
          "output_type": "stream",
          "name": "stdout",
          "text": [
            "ANOVA Scores: [  140.15241     7131.40585213  4072.70687466  3038.55956375\n",
            "   897.01711575  4816.11393219 19122.21118355 21363.05436142]\n"
          ]
        }
      ]
    },
    {
      "cell_type": "markdown",
      "source": [
        "### ** Feature Selection :**\n",
        "\n",
        "## ANOVA Scores"
      ],
      "metadata": {
        "id": "IG66794p2PuZ"
      }
    },
    {
      "cell_type": "code",
      "source": [
        "from sklearn.feature_selection import f_classif, SelectKBest\n",
        "\n",
        "anova_selector = SelectKBest(f_classif, k='all')\n",
        "anova_selector.fit(X, y)\n",
        "print(\"ANOVA Scores:\", anova_selector.scores_)"
      ],
      "metadata": {
        "colab": {
          "base_uri": "https://localhost:8080/"
        },
        "id": "RLP0_we12Kth",
        "outputId": "9a9b9618-a671-4d23-8e79-d89bbb219bbc"
      },
      "execution_count": null,
      "outputs": [
        {
          "output_type": "stream",
          "name": "stdout",
          "text": [
            "ANOVA Scores: [  140.15241     7131.40585213  4072.70687466  3038.55956375\n",
            "   897.01711575  4816.11393219 19122.21118355 21363.05436142]\n"
          ]
        }
      ]
    },
    {
      "cell_type": "markdown",
      "source": [
        "## Chi-Square Scores"
      ],
      "metadata": {
        "id": "22fY34Ja2aIJ"
      }
    },
    {
      "cell_type": "code",
      "source": [
        "from sklearn.feature_selection import chi2\n",
        "\n",
        "chi_selector = SelectKBest(chi2, k='all')\n",
        "chi_selector.fit(X, y)\n",
        "print(\"Chi-Square Scores:\", chi_selector.scores_)\n"
      ],
      "metadata": {
        "colab": {
          "base_uri": "https://localhost:8080/"
        },
        "id": "tiYaFjTk2cfp",
        "outputId": "1f0a1716-7fea-496e-f1d4-100d85bcc28c"
      },
      "execution_count": null,
      "outputs": [
        {
          "output_type": "stream",
          "name": "stdout",
          "text": [
            "Chi-Square Scores: [8.20451420e+01 8.05767223e+04 3.62048542e+03 2.83276107e+03\n",
            " 1.45648777e+03 7.40789884e+03 3.32913937e+03 2.11290675e+05]\n"
          ]
        }
      ]
    },
    {
      "cell_type": "markdown",
      "source": [
        "## **RFE**"
      ],
      "metadata": {
        "id": "yDw16RTX2iER"
      }
    },
    {
      "cell_type": "code",
      "source": [
        "from sklearn.feature_selection import RFE\n",
        "from sklearn.ensemble import RandomForestClassifier\n",
        "\n",
        "# Initialize the model\n",
        "rf_model = RandomForestClassifier(random_state=42)\n",
        "\n",
        "# Recursive Feature Elimination\n",
        "rfe = RFE(estimator=rf_model, n_features_to_select=5)\n",
        "rfe.fit(X, y)\n",
        "\n",
        "# Selected features and ranking\n",
        "print(\"Ranking of features:\", rfe.ranking_)\n",
        "print(\"Support for selected features:\", rfe.support_)\n"
      ],
      "metadata": {
        "colab": {
          "base_uri": "https://localhost:8080/"
        },
        "id": "XXQUcH6y2mhR",
        "outputId": "d22d58db-ccea-4c6d-cc50-526bfd61f4ef"
      },
      "execution_count": null,
      "outputs": [
        {
          "output_type": "stream",
          "name": "stdout",
          "text": [
            "Ranking of features: [4 1 2 3 1 1 1 1]\n",
            "Support for selected features: [False  True False False  True  True  True  True]\n"
          ]
        }
      ]
    },
    {
      "cell_type": "markdown",
      "source": [
        "## * Random Forest model ,Decision Tree model ** **bold text**"
      ],
      "metadata": {
        "id": "AF7baa1y3oip"
      }
    },
    {
      "cell_type": "code",
      "source": [
        "import pandas as pd\n",
        "from sklearn.model_selection import train_test_split\n",
        "from sklearn.ensemble import RandomForestClassifier\n",
        "from sklearn.tree import DecisionTreeClassifier\n",
        "from sklearn.metrics import accuracy_score, classification_report\n",
        "from sklearn.preprocessing import LabelEncoder # Import LabelEncoder\n",
        "\n",
        "# Step 1: Load your diabetes dataset\n",
        "data = pd.read_csv('diabetes_prediction_dataset.csv.zip')\n",
        "\n",
        "# Step 1.5: Preprocess categorical features (if any)\n",
        "# Assuming 'gender' and 'smoking_history' are categorical\n",
        "label_encoder = LabelEncoder()\n",
        "categorical_features = ['gender', 'smoking_history']\n",
        "for feature in categorical_features:\n",
        "    data[feature] = label_encoder.fit_transform(data[feature])\n",
        "\n",
        "# Step 2: Define features (X) and target (y)\n",
        "X = data.drop(columns=['diabetes'])  # Features (all columns except 'diabetes')\n",
        "y = data['diabetes']  # Target variable ('diabetes' column)\n",
        "\n",
        "# Step 3: Split the dataset into training and testing sets\n",
        "X_train, X_test, y_train, y_test = train_test_split(X, y, test_size=0.2, random_state=42)\n",
        "\n",
        "# Step 4: Initialize the models\n",
        "rf_model = RandomForestClassifier(random_state=42)\n",
        "dt_model = DecisionTreeClassifier(random_state=42)\n",
        "\n",
        "# Step 5: Train the Random Forest model\n",
        "rf_model.fit(X_train, y_train)\n",
        "\n",
        "# Step 6: Train the Decision Tree model\n",
        "dt_model.fit(X_train, y_train)\n",
        "\n",
        "# Step 7: Make predictions\n",
        "rf_predictions = rf_model.predict(X_test)\n",
        "dt_predictions = dt_model.predict(X_test)\n",
        "\n",
        "# Step 8: Evaluate the models\n",
        "rf_accuracy = accuracy_score(y_test, rf_predictions)\n",
        "dt_accuracy = accuracy_score(y_test, dt_predictions)\n",
        "\n",
        "print(\"Random Forest Accuracy:\", rf_accuracy)\n",
        "print(\"Decision Tree Accuracy:\", dt_accuracy)\n",
        "\n",
        "# Step 9: Print classification reports for more detailed metrics\n",
        "print(\"\\nRandom Forest Classification Report:\\n\", classification_report(y_test, rf_predictions))\n",
        "print(\"\\nDecision Tree Classification Report:\\n\", classification_report(y_test, dt_predictions))"
      ],
      "metadata": {
        "colab": {
          "base_uri": "https://localhost:8080/"
        },
        "id": "y5ElAlMX368Z",
        "outputId": "97b2d06a-23d8-45c4-9ccf-3161104ee8b2"
      },
      "execution_count": null,
      "outputs": [
        {
          "output_type": "stream",
          "name": "stdout",
          "text": [
            "Random Forest Accuracy: 0.97065\n",
            "Decision Tree Accuracy: 0.95245\n",
            "\n",
            "Random Forest Classification Report:\n",
            "               precision    recall  f1-score   support\n",
            "\n",
            "           0       0.97      1.00      0.98     18292\n",
            "           1       0.95      0.69      0.80      1708\n",
            "\n",
            "    accuracy                           0.97     20000\n",
            "   macro avg       0.96      0.84      0.89     20000\n",
            "weighted avg       0.97      0.97      0.97     20000\n",
            "\n",
            "\n",
            "Decision Tree Classification Report:\n",
            "               precision    recall  f1-score   support\n",
            "\n",
            "           0       0.98      0.97      0.97     18292\n",
            "           1       0.71      0.74      0.73      1708\n",
            "\n",
            "    accuracy                           0.95     20000\n",
            "   macro avg       0.84      0.86      0.85     20000\n",
            "weighted avg       0.95      0.95      0.95     20000\n",
            "\n"
          ]
        }
      ]
    },
    {
      "cell_type": "markdown",
      "source": [
        "### **Hyperparameter Tuning**"
      ],
      "metadata": {
        "id": "wFoS3MZ17HN5"
      }
    },
    {
      "cell_type": "markdown",
      "source": [],
      "metadata": {
        "id": "w_arf8Yv7JS5"
      }
    },
    {
      "source": [
        "import pandas as pd\n",
        "from sklearn.model_selection import train_test_split, RandomizedSearchCV\n",
        "from sklearn.ensemble import RandomForestClassifier\n",
        "from sklearn.metrics import accuracy_score, classification_report\n",
        "from sklearn.preprocessing import LabelEncoder  # Import LabelEncoder if needed\n",
        "\n",
        "# Step 1: Load your diabetes dataset\n",
        "data = pd.read_csv('diabetes_prediction_dataset.csv.zip')\n",
        "\n",
        "# Step 1.5: Preprocess categorical features (if any)\n",
        "# Assuming 'gender' and 'smoking_history' are categorical\n",
        "label_encoder = LabelEncoder()\n",
        "categorical_features = ['gender', 'smoking_history']\n",
        "for feature in categorical_features:\n",
        "    data[feature] = label_encoder.fit_transform(data[feature])\n",
        "\n",
        "# Step 2: Define features (X) and target (y)\n",
        "X = data.drop(columns=['diabetes'])  # Features (all columns except 'diabetes')\n",
        "y = data['diabetes']  # Target variable ('diabetes' column)\n",
        "\n",
        "# Step 3: Split the dataset into training and testing sets\n",
        "X_train, X_test, y_train, y_test = train_test_split(X, y, test_size=0.2, random_state=42)\n",
        "\n",
        "# Step 4: Initialize the Random Forest model\n",
        "rf_model = RandomForestClassifier(random_state=42)\n",
        "\n",
        "# Step 5: Define parameter grid for RandomizedSearchCV\n",
        "param_grid = {\n",
        "    'n_estimators': [50, 100, 200],\n",
        "    'max_depth': [None, 10, 20, 30],\n",
        "    'min_samples_split': [2, 5, 10],\n",
        "    'min_samples_leaf': [1, 2, 4]\n",
        "}\n",
        "\n",
        "# Step 6: Initialize and perform RandomizedSearchCV\n",
        "random_search = RandomizedSearchCV(estimator=rf_model,\n",
        "                                   param_distributions=param_grid,\n",
        "                                   cv=5,  # Number of cross-validation folds\n",
        "                                   n_iter=10,  # Number of parameter settings sampled\n",
        "                                   scoring='accuracy',  # Evaluation metric\n",
        "                                   random_state=42,\n",
        "                                   n_jobs=-1)  # Use all available cores\n",
        "\n",
        "random_search.fit(X_train, y_train)\n",
        "\n",
        "# Step 7: Best parameters and best score\n",
        "print(\"Best Parameters:\", random_search.best_params_)\n",
        "print(\"Best Score:\", random_search.best_score_)\n",
        "\n",
        "# Step 8: Evaluate the best model on the test set\n",
        "best_rf_model = random_search.best_estimator_\n",
        "y_pred = best_rf_model.predict(X_test)\n",
        "\n",
        "# Step 9: Print accuracy and classification report\n",
        "accuracy = accuracy_score(y_test, y_pred)\n",
        "print(\"Test Set Accuracy:\", accuracy)\n",
        "print(\"\\nClassification Report:\\n\", classification_report(y_test, y_pred))"
      ],
      "cell_type": "code",
      "metadata": {
        "colab": {
          "base_uri": "https://localhost:8080/"
        },
        "id": "jgM7ma4B7aMY",
        "outputId": "3e06d784-c051-4d0e-9ffb-8aa5b8560114"
      },
      "execution_count": null,
      "outputs": [
        {
          "output_type": "stream",
          "name": "stderr",
          "text": [
            "/usr/local/lib/python3.10/dist-packages/numpy/ma/core.py:2820: RuntimeWarning: invalid value encountered in cast\n",
            "  _data = np.array(data, dtype=dtype, copy=copy,\n"
          ]
        },
        {
          "output_type": "stream",
          "name": "stdout",
          "text": [
            "Best Parameters: {'n_estimators': 50, 'min_samples_split': 5, 'min_samples_leaf': 1, 'max_depth': 10}\n",
            "Best Score: 0.9718249999999999\n",
            "Test Set Accuracy: 0.9723\n",
            "\n",
            "Classification Report:\n",
            "               precision    recall  f1-score   support\n",
            "\n",
            "           0       0.97      1.00      0.99     18292\n",
            "           1       1.00      0.68      0.81      1708\n",
            "\n",
            "    accuracy                           0.97     20000\n",
            "   macro avg       0.99      0.84      0.90     20000\n",
            "weighted avg       0.97      0.97      0.97     20000\n",
            "\n"
          ]
        }
      ]
    },
    {
      "cell_type": "markdown",
      "source": [
        "## 10-Fold Cross-Validation Scores"
      ],
      "metadata": {
        "id": "qSojwccNB2eR"
      }
    },
    {
      "source": [
        "import pandas as pd\n",
        "from sklearn.model_selection import cross_val_score\n",
        "from sklearn.ensemble import RandomForestClassifier\n",
        "from sklearn.preprocessing import LabelEncoder  # Import LabelEncoder if needed\n",
        "\n",
        "\n",
        "# ... (Your previous code for loading and preprocessing data, and defining X and y) ...\n",
        "\n",
        "\n",
        "# Initialize the Random Forest model\n",
        "rf_model = RandomForestClassifier(random_state=42)  # Or use your best_rf_model\n",
        "\n",
        "# Cross-validation with k=10\n",
        "cv_scores_10 = cross_val_score(rf_model, X, y, cv=10)  # Use X and y directly\n",
        "print(\"10-Fold Cross-Validation Scores:\", cv_scores_10)\n",
        "print(\"Mean Accuracy (k=10):\", cv_scores_10.mean())"
      ],
      "cell_type": "code",
      "metadata": {
        "colab": {
          "base_uri": "https://localhost:8080/"
        },
        "id": "LGTU2-3gCCEY",
        "outputId": "42fe3644-a3a8-48ea-da63-3b79cb7888ce"
      },
      "execution_count": null,
      "outputs": [
        {
          "output_type": "stream",
          "name": "stdout",
          "text": [
            "10-Fold Cross-Validation Scores: [0.9698 0.9704 0.9712 0.9708 0.9674 0.9679 0.9716 0.9696 0.9692 0.9708]\n",
            "Mean Accuracy (k=10): 0.96987\n"
          ]
        }
      ]
    },
    {
      "cell_type": "markdown",
      "source": [
        "## **Calculate ROC curve**"
      ],
      "metadata": {
        "id": "0Nbq8wx9CGxQ"
      }
    },
    {
      "cell_type": "code",
      "source": [
        "import pandas as pd\n",
        "from sklearn.model_selection import train_test_split\n",
        "from sklearn.ensemble import RandomForestClassifier\n",
        "from sklearn.metrics import roc_curve, auc\n",
        "import matplotlib.pyplot as plt\n",
        "from sklearn.preprocessing import LabelEncoder\n",
        "\n",
        "# Step 1: Load your diabetes dataset\n",
        "data = pd.read_csv('diabetes_prediction_dataset.csv.zip')\n",
        "\n",
        "# Step 1.5: Preprocess categorical features (if any)\n",
        "# Assuming 'gender' and 'smoking_history' are categorical\n",
        "label_encoder = LabelEncoder()\n",
        "categorical_features = ['gender', 'smoking_history']\n",
        "for feature in categorical_features:\n",
        "    data[feature] = label_encoder.fit_transform(data[feature])\n",
        "\n",
        "# Step 2: Define features (X) and target (y)\n",
        "X = data.drop(columns=['diabetes'])  # Features (all columns except 'diabetes')\n",
        "y = data['diabetes']  # Target variable ('diabetes' column)\n",
        "\n",
        "# Step 3: Split the dataset into training and testing sets\n",
        "X_train, X_test, y_train, y_test = train_test_split(X, y, test_size=0.2, random_state=42)\n",
        "\n",
        "# Step 4: Initialize and train the Random Forest model\n",
        "rf_model = RandomForestClassifier(random_state=42)\n",
        "rf_model.fit(X_train, y_train)\n",
        "\n",
        "# Step 5: Predict probabilities for the positive class\n",
        "y_pred_proba = rf_model.predict_proba(X_test)[:, 1]\n",
        "\n",
        "# Step 6: Calculate ROC curve\n",
        "fpr, tpr, _ = roc_curve(y_test, y_pred_proba)\n",
        "roc_auc = auc(fpr, tpr)\n",
        "\n",
        "# Step 7: Plot ROC curve\n",
        "plt.figure()\n",
        "plt.plot(fpr, tpr, color='blue', lw=2, label='ROC curve (AUC = %0.2f)' % roc_auc)\n",
        "plt.plot([0, 1], [0, 1], color='red', lw=2, linestyle='--')  # Diagonal line\n",
        "plt.xlabel('False Positive Rate')\n",
        "plt.ylabel('True Positive Rate')\n",
        "plt.title('ROC Curve')\n",
        "plt.legend(loc=\"lower right\")\n",
        "plt.show()"
      ],
      "metadata": {
        "colab": {
          "base_uri": "https://localhost:8080/",
          "height": 472
        },
        "id": "FtW2a-y6Co8R",
        "outputId": "3ccb43ef-b4b9-4416-f6ab-d6aaf77f0894"
      },
      "execution_count": null,
      "outputs": [
        {
          "output_type": "display_data",
          "data": {
            "text/plain": [
              "<Figure size 640x480 with 1 Axes>"
            ],
            "image/png": "[encoded data removed]"
          },
          "metadata": {}
        }
      ]
    },
    {
      "cell_type": "markdown",
      "source": [
        "## **AUC Score**"
      ],
      "metadata": {
        "id": "Cjyh3drhB4NR"
      }
    },
    {
      "source": [
        "import pandas as pd\n",
        "from sklearn.model_selection import train_test_split\n",
        "from sklearn.ensemble import RandomForestClassifier\n",
        "from sklearn.metrics import roc_auc_score  # Import roc_auc_score\n",
        "from sklearn.preprocessing import LabelEncoder\n",
        "\n",
        "# Step 1: Load your diabetes dataset\n",
        "data = pd.read_csv('diabetes_prediction_dataset.csv.zip')\n",
        "\n",
        "# Step 1.5: Preprocess categorical features (if any)\n",
        "# Assuming 'gender' and 'smoking_history' are categorical\n",
        "label_encoder = LabelEncoder()\n",
        "categorical_features = ['gender', 'smoking_history']\n",
        "for feature in categorical_features:\n",
        "    data[feature] = label_encoder.fit_transform(data[feature])\n",
        "\n",
        "# Step 2: Define features (X) and target (y)\n",
        "X = data.drop(columns=['diabetes'])  # Features (all columns except 'diabetes')\n",
        "y = data['diabetes']  # Target variable ('diabetes' column)\n",
        "\n",
        "# Step 3: Split the dataset into training and testing sets\n",
        "X_train, X_test, y_train, y_test = train_test_split(X, y, test_size=0.2, random_state=42)\n",
        "\n",
        "# Step 4: Initialize and train the Random Forest model\n",
        "rf_model = RandomForestClassifier(random_state=42)\n",
        "rf_model.fit(X_train, y_train)\n",
        "\n",
        "# Step 5: Predict probabilities for the positive class\n",
        "y_pred_proba = rf_model.predict_proba(X_test)[:, 1]\n",
        "\n",
        "# Step 6: Calculate AUC score\n",
        "auc_score = roc_auc_score(y_test, y_pred_proba)\n",
        "print(\"AUC Score:\", auc_score)"
      ],
      "cell_type": "code",
      "metadata": {
        "colab": {
          "base_uri": "https://localhost:8080/"
        },
        "id": "rhu1bv0kDICv",
        "outputId": "fa6089c4-d185-4c60-ab18-cc6a9de20f5b"
      },
      "execution_count": null,
      "outputs": [
        {
          "output_type": "stream",
          "name": "stdout",
          "text": [
            "AUC Score: 0.9636997380767165\n"
          ]
        }
      ]
    },
    {
      "cell_type": "markdown",
      "source": [
        "## **Web**"
      ],
      "metadata": {
        "id": "7xTzh8ctDPDZ"
      }
    },
    {
      "cell_type": "code",
      "source": [
        "import pickle\n",
        "from sklearn.ensemble import RandomForestClassifier\n",
        "import pandas as pd\n",
        "from sklearn.model_selection import train_test_split\n",
        "from sklearn.preprocessing import LabelEncoder\n",
        "\n",
        "# Step 1: Load your diabetes dataset\n",
        "data = pd.read_csv('diabetes_prediction_dataset.csv.zip')\n",
        "\n",
        "# Step 1.5: Preprocess categorical features (if any)\n",
        "# Assuming 'gender' and 'smoking_history' are categorical\n",
        "label_encoder = LabelEncoder()\n",
        "categorical_features = ['gender', 'smoking_history']\n",
        "for feature in categorical_features:\n",
        "    data[feature] = label_encoder.fit_transform(data[feature])\n",
        "\n",
        "# Step 2: Define features (X) and target (y)\n",
        "X = data.drop(columns=['diabetes'])  # Features (all columns except 'diabetes')\n",
        "y = data['diabetes']  # Target variable ('diabetes' column)\n",
        "\n",
        "# Step 3: Split the dataset into training and testing sets (optional, if you want to evaluate before saving)\n",
        "X_train, X_test, y_train, y_test = train_test_split(X, y, test_size=0.2, random_state=42)\n",
        "\n",
        "# Step 4: Initialize and train the Random Forest model\n",
        "model = RandomForestClassifier(random_state=42)\n",
        "model.fit(X_train, y_train)\n",
        "\n",
        "# Step 5: Save the model to a file\n",
        "with open('diabetes_model.pkl', 'wb') as file:  # Change filename if desired\n",
        "    pickle.dump(model, file)\n",
        "\n",
        "# Output confirmation\n",
        "print(\"Model saved successfully to 'diabetes_model.pkl'\")"
      ],
      "metadata": {
        "colab": {
          "base_uri": "https://localhost:8080/"
        },
        "id": "T15oZdlKDNdx",
        "outputId": "772d8c28-6922-4a09-9e73-4ad25752622a"
      },
      "execution_count": null,
      "outputs": [
        {
          "output_type": "stream",
          "name": "stdout",
          "text": [
            "Model saved successfully to 'diabetes_model.pkl'\n"
          ]
        }
      ]
    },
    {
      "source": [
        "def display_thank_you_message():\n",
        "    \"\"\"Displays a thank you message with diabetes care advice.\"\"\"\n",
        "    message = \"\"\"\n",
        "    Thank you for using our Diabetes Prediction Tool!\n",
        "\n",
        "    We hope this information helps you make informed decisions about your health.\n",
        "\n",
        "    Remember to:\n",
        "    * Consult with your doctor for personalized advice.\n",
        "    * Take care of yourself and manage your diabetes effectively.\n",
        "    * Monitor your blood sugar levels regularly.\n",
        "    * Follow a healthy diet and exercise plan.\n",
        "\n",
        "    Take care of your health and stay well!\n",
        "    \"\"\"\n",
        "    print(message)"
      ],
      "cell_type": "code",
      "metadata": {
        "id": "q7H8qkeVDucI"
      },
      "execution_count": null,
      "outputs": []
    },
    {
      "source": [
        "display_thank_you_message()"
      ],
      "cell_type": "code",
      "metadata": {
        "colab": {
          "base_uri": "https://localhost:8080/"
        },
        "id": "K_ouc2xXDybY",
        "outputId": "84ea0ff3-2caa-40d9-9b37-e5d84ebb6194"
      },
      "execution_count": null,
      "outputs": [
        {
          "output_type": "stream",
          "name": "stdout",
          "text": [
            "\n",
            "    Thank you for using our Diabetes Prediction Tool!\n",
            "\n",
            "    We hope this information helps you make informed decisions about your health.\n",
            "\n",
            "    Remember to:\n",
            "    * Consult with your doctor for personalized advice.\n",
            "    * Take care of yourself and manage your diabetes effectively.\n",
            "    * Monitor your blood sugar levels regularly.\n",
            "    * Follow a healthy diet and exercise plan.\n",
            "\n",
            "    Take care of your health and stay well!\n",
            "    \n"
          ]
        }
      ]
    }
  ]
}